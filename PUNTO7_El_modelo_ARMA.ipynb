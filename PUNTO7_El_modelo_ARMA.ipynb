{
  "nbformat": 4,
  "nbformat_minor": 0,
  "metadata": {
    "colab": {
      "provenance": []
    },
    "kernelspec": {
      "name": "python3",
      "display_name": "Python 3"
    },
    "language_info": {
      "name": "python"
    }
  },
  "cells": [
    {
      "cell_type": "code",
      "execution_count": null,
      "metadata": {
        "id": "3CfowhzXosG2"
      },
      "outputs": [],
      "source": [
        "import pandas as pd\n",
        "import numpy as np\n",
        "import matplotlib.pyplot as plt\n",
        "import statsmodels.graphics.tsaplots as sgt\n",
        "import statsmodels.tsa.stattools as sts\n",
        "from statsmodels.tsa.arima_model import ARMA\n",
        "from scipy.stats.distributions import chi2\n",
        "import seaborn as sns\n",
        "sns.set()"
      ]
    },
    {
      "cell_type": "code",
      "source": [
        "from google.colab import files\n",
        "uploaded = files.upload()\n",
        "raw_csv_data = pd.read_csv(\"Index2018.csv\")\n",
        "df_comp=raw_csv_data.copy()\n",
        "df_comp.date = pd.to_datetime(df_comp.date, dayfirst = True)\n",
        "df_comp.set_index(\"date\", inplace=True)\n",
        "df_comp=df_comp.asfreq('b')\n",
        "df_comp=df_comp.fillna(method='ffill')"
      ],
      "metadata": {
        "id": "YwOOPv9Foubu",
        "colab": {
          "base_uri": "https://localhost:8080/",
          "height": 73
        },
        "outputId": "0f7177ce-ee65-49b7-eb52-08a931ce063d"
      },
      "execution_count": null,
      "outputs": [
        {
          "output_type": "display_data",
          "data": {
            "text/plain": [
              "<IPython.core.display.HTML object>"
            ],
            "text/html": [
              "\n",
              "     <input type=\"file\" id=\"files-6c671984-3d4b-4d0a-a7f8-0a7f5535e206\" name=\"files[]\" multiple disabled\n",
              "        style=\"border:none\" />\n",
              "     <output id=\"result-6c671984-3d4b-4d0a-a7f8-0a7f5535e206\">\n",
              "      Upload widget is only available when the cell has been executed in the\n",
              "      current browser session. Please rerun this cell to enable.\n",
              "      </output>\n",
              "      <script>// Copyright 2017 Google LLC\n",
              "//\n",
              "// Licensed under the Apache License, Version 2.0 (the \"License\");\n",
              "// you may not use this file except in compliance with the License.\n",
              "// You may obtain a copy of the License at\n",
              "//\n",
              "//      http://www.apache.org/licenses/LICENSE-2.0\n",
              "//\n",
              "// Unless required by applicable law or agreed to in writing, software\n",
              "// distributed under the License is distributed on an \"AS IS\" BASIS,\n",
              "// WITHOUT WARRANTIES OR CONDITIONS OF ANY KIND, either express or implied.\n",
              "// See the License for the specific language governing permissions and\n",
              "// limitations under the License.\n",
              "\n",
              "/**\n",
              " * @fileoverview Helpers for google.colab Python module.\n",
              " */\n",
              "(function(scope) {\n",
              "function span(text, styleAttributes = {}) {\n",
              "  const element = document.createElement('span');\n",
              "  element.textContent = text;\n",
              "  for (const key of Object.keys(styleAttributes)) {\n",
              "    element.style[key] = styleAttributes[key];\n",
              "  }\n",
              "  return element;\n",
              "}\n",
              "\n",
              "// Max number of bytes which will be uploaded at a time.\n",
              "const MAX_PAYLOAD_SIZE = 100 * 1024;\n",
              "\n",
              "function _uploadFiles(inputId, outputId) {\n",
              "  const steps = uploadFilesStep(inputId, outputId);\n",
              "  const outputElement = document.getElementById(outputId);\n",
              "  // Cache steps on the outputElement to make it available for the next call\n",
              "  // to uploadFilesContinue from Python.\n",
              "  outputElement.steps = steps;\n",
              "\n",
              "  return _uploadFilesContinue(outputId);\n",
              "}\n",
              "\n",
              "// This is roughly an async generator (not supported in the browser yet),\n",
              "// where there are multiple asynchronous steps and the Python side is going\n",
              "// to poll for completion of each step.\n",
              "// This uses a Promise to block the python side on completion of each step,\n",
              "// then passes the result of the previous step as the input to the next step.\n",
              "function _uploadFilesContinue(outputId) {\n",
              "  const outputElement = document.getElementById(outputId);\n",
              "  const steps = outputElement.steps;\n",
              "\n",
              "  const next = steps.next(outputElement.lastPromiseValue);\n",
              "  return Promise.resolve(next.value.promise).then((value) => {\n",
              "    // Cache the last promise value to make it available to the next\n",
              "    // step of the generator.\n",
              "    outputElement.lastPromiseValue = value;\n",
              "    return next.value.response;\n",
              "  });\n",
              "}\n",
              "\n",
              "/**\n",
              " * Generator function which is called between each async step of the upload\n",
              " * process.\n",
              " * @param {string} inputId Element ID of the input file picker element.\n",
              " * @param {string} outputId Element ID of the output display.\n",
              " * @return {!Iterable<!Object>} Iterable of next steps.\n",
              " */\n",
              "function* uploadFilesStep(inputId, outputId) {\n",
              "  const inputElement = document.getElementById(inputId);\n",
              "  inputElement.disabled = false;\n",
              "\n",
              "  const outputElement = document.getElementById(outputId);\n",
              "  outputElement.innerHTML = '';\n",
              "\n",
              "  const pickedPromise = new Promise((resolve) => {\n",
              "    inputElement.addEventListener('change', (e) => {\n",
              "      resolve(e.target.files);\n",
              "    });\n",
              "  });\n",
              "\n",
              "  const cancel = document.createElement('button');\n",
              "  inputElement.parentElement.appendChild(cancel);\n",
              "  cancel.textContent = 'Cancel upload';\n",
              "  const cancelPromise = new Promise((resolve) => {\n",
              "    cancel.onclick = () => {\n",
              "      resolve(null);\n",
              "    };\n",
              "  });\n",
              "\n",
              "  // Wait for the user to pick the files.\n",
              "  const files = yield {\n",
              "    promise: Promise.race([pickedPromise, cancelPromise]),\n",
              "    response: {\n",
              "      action: 'starting',\n",
              "    }\n",
              "  };\n",
              "\n",
              "  cancel.remove();\n",
              "\n",
              "  // Disable the input element since further picks are not allowed.\n",
              "  inputElement.disabled = true;\n",
              "\n",
              "  if (!files) {\n",
              "    return {\n",
              "      response: {\n",
              "        action: 'complete',\n",
              "      }\n",
              "    };\n",
              "  }\n",
              "\n",
              "  for (const file of files) {\n",
              "    const li = document.createElement('li');\n",
              "    li.append(span(file.name, {fontWeight: 'bold'}));\n",
              "    li.append(span(\n",
              "        `(${file.type || 'n/a'}) - ${file.size} bytes, ` +\n",
              "        `last modified: ${\n",
              "            file.lastModifiedDate ? file.lastModifiedDate.toLocaleDateString() :\n",
              "                                    'n/a'} - `));\n",
              "    const percent = span('0% done');\n",
              "    li.appendChild(percent);\n",
              "\n",
              "    outputElement.appendChild(li);\n",
              "\n",
              "    const fileDataPromise = new Promise((resolve) => {\n",
              "      const reader = new FileReader();\n",
              "      reader.onload = (e) => {\n",
              "        resolve(e.target.result);\n",
              "      };\n",
              "      reader.readAsArrayBuffer(file);\n",
              "    });\n",
              "    // Wait for the data to be ready.\n",
              "    let fileData = yield {\n",
              "      promise: fileDataPromise,\n",
              "      response: {\n",
              "        action: 'continue',\n",
              "      }\n",
              "    };\n",
              "\n",
              "    // Use a chunked sending to avoid message size limits. See b/62115660.\n",
              "    let position = 0;\n",
              "    do {\n",
              "      const length = Math.min(fileData.byteLength - position, MAX_PAYLOAD_SIZE);\n",
              "      const chunk = new Uint8Array(fileData, position, length);\n",
              "      position += length;\n",
              "\n",
              "      const base64 = btoa(String.fromCharCode.apply(null, chunk));\n",
              "      yield {\n",
              "        response: {\n",
              "          action: 'append',\n",
              "          file: file.name,\n",
              "          data: base64,\n",
              "        },\n",
              "      };\n",
              "\n",
              "      let percentDone = fileData.byteLength === 0 ?\n",
              "          100 :\n",
              "          Math.round((position / fileData.byteLength) * 100);\n",
              "      percent.textContent = `${percentDone}% done`;\n",
              "\n",
              "    } while (position < fileData.byteLength);\n",
              "  }\n",
              "\n",
              "  // All done.\n",
              "  yield {\n",
              "    response: {\n",
              "      action: 'complete',\n",
              "    }\n",
              "  };\n",
              "}\n",
              "\n",
              "scope.google = scope.google || {};\n",
              "scope.google.colab = scope.google.colab || {};\n",
              "scope.google.colab._files = {\n",
              "  _uploadFiles,\n",
              "  _uploadFilesContinue,\n",
              "};\n",
              "})(self);\n",
              "</script> "
            ]
          },
          "metadata": {}
        },
        {
          "output_type": "stream",
          "name": "stdout",
          "text": [
            "Saving Index2018.csv to Index2018.csv\n"
          ]
        }
      ]
    },
    {
      "cell_type": "code",
      "source": [
        "df_comp['market_value']=df_comp.ftse\n",
        "del df_comp['spx']\n",
        "del df_comp['dax']\n",
        "del df_comp['ftse']\n",
        "del df_comp['nikkei']\n",
        "size = int(len(df_comp)*0.8)\n",
        "df, df_test = df_comp.iloc[:size], df_comp.iloc[size:]\n",
        "import warnings\n",
        "warnings.filterwarnings(\"ignore\")"
      ],
      "metadata": {
        "id": "Tf1OTnN8ouec"
      },
      "execution_count": null,
      "outputs": []
    },
    {
      "cell_type": "code",
      "source": [
        "def LLR_test(mod_1, mod_2, DF = 1):\n",
        "    L1 = mod_1.fit().llf\n",
        "    L2 = mod_2.fit().llf\n",
        "    LR = (2*(L2-L1))\n",
        "    p = chi2.sf(LR, DF).round(3)\n",
        "    return p"
      ],
      "metadata": {
        "id": "XE-Djjamoug3"
      },
      "execution_count": null,
      "outputs": []
    },
    {
      "cell_type": "code",
      "source": [
        "df['returns'] = df.market_value.pct_change(1)*100"
      ],
      "metadata": {
        "id": "UkQBqOrNoujx"
      },
      "execution_count": null,
      "outputs": []
    },
    {
      "cell_type": "code",
      "source": [
        "import statsmodels.api as sm\n",
        "model_ret_ar_1_ma_1 = sm.tsa.ARIMA(df.returns[1:], order=(1,0,1))\n",
        "results_ret_ar_1_ma_1 = model_ret_ar_1_ma_1.fit()\n",
        "results_ret_ar_1_ma_1.summary()"
      ],
      "metadata": {
        "id": "TZUjm3fgounW",
        "colab": {
          "base_uri": "https://localhost:8080/",
          "height": 441
        },
        "outputId": "ea2ffada-373b-453d-84ed-6b2e47d5339b"
      },
      "execution_count": null,
      "outputs": [
        {
          "output_type": "execute_result",
          "data": {
            "text/plain": [
              "<class 'statsmodels.iolib.summary.Summary'>\n",
              "\"\"\"\n",
              "                               SARIMAX Results                                \n",
              "==============================================================================\n",
              "Dep. Variable:                returns   No. Observations:                 5020\n",
              "Model:                 ARIMA(1, 0, 1)   Log Likelihood               -7916.500\n",
              "Date:                Fri, 22 Sep 2023   AIC                          15841.000\n",
              "Time:                        20:26:54   BIC                          15867.085\n",
              "Sample:                    01-10-1994   HQIC                         15850.140\n",
              "                         - 04-05-2013                                         \n",
              "Covariance Type:                  opg                                         \n",
              "==============================================================================\n",
              "                 coef    std err          z      P>|z|      [0.025      0.975]\n",
              "------------------------------------------------------------------------------\n",
              "const          0.0189      0.015      1.290      0.197      -0.010       0.048\n",
              "ar.L1          0.7650      0.045     16.995      0.000       0.677       0.853\n",
              "ma.L1         -0.8142      0.040    -20.187      0.000      -0.893      -0.735\n",
              "sigma2         1.3718      0.014     98.110      0.000       1.344       1.399\n",
              "===================================================================================\n",
              "Ljung-Box (L1) (Q):                   2.06   Jarque-Bera (JB):              7488.92\n",
              "Prob(Q):                              0.15   Prob(JB):                         0.00\n",
              "Heteroskedasticity (H):               2.03   Skew:                            -0.18\n",
              "Prob(H) (two-sided):                  0.00   Kurtosis:                         8.97\n",
              "===================================================================================\n",
              "\n",
              "Warnings:\n",
              "[1] Covariance matrix calculated using the outer product of gradients (complex-step).\n",
              "\"\"\""
            ],
            "text/html": [
              "<table class=\"simpletable\">\n",
              "<caption>SARIMAX Results</caption>\n",
              "<tr>\n",
              "  <th>Dep. Variable:</th>        <td>returns</td>     <th>  No. Observations:  </th>   <td>5020</td>   \n",
              "</tr>\n",
              "<tr>\n",
              "  <th>Model:</th>            <td>ARIMA(1, 0, 1)</td>  <th>  Log Likelihood     </th> <td>-7916.500</td>\n",
              "</tr>\n",
              "<tr>\n",
              "  <th>Date:</th>            <td>Fri, 22 Sep 2023</td> <th>  AIC                </th> <td>15841.000</td>\n",
              "</tr>\n",
              "<tr>\n",
              "  <th>Time:</th>                <td>20:26:54</td>     <th>  BIC                </th> <td>15867.085</td>\n",
              "</tr>\n",
              "<tr>\n",
              "  <th>Sample:</th>             <td>01-10-1994</td>    <th>  HQIC               </th> <td>15850.140</td>\n",
              "</tr>\n",
              "<tr>\n",
              "  <th></th>                   <td>- 04-05-2013</td>   <th>                     </th>     <td> </td>    \n",
              "</tr>\n",
              "<tr>\n",
              "  <th>Covariance Type:</th>        <td>opg</td>       <th>                     </th>     <td> </td>    \n",
              "</tr>\n",
              "</table>\n",
              "<table class=\"simpletable\">\n",
              "<tr>\n",
              "     <td></td>       <th>coef</th>     <th>std err</th>      <th>z</th>      <th>P>|z|</th>  <th>[0.025</th>    <th>0.975]</th>  \n",
              "</tr>\n",
              "<tr>\n",
              "  <th>const</th>  <td>    0.0189</td> <td>    0.015</td> <td>    1.290</td> <td> 0.197</td> <td>   -0.010</td> <td>    0.048</td>\n",
              "</tr>\n",
              "<tr>\n",
              "  <th>ar.L1</th>  <td>    0.7650</td> <td>    0.045</td> <td>   16.995</td> <td> 0.000</td> <td>    0.677</td> <td>    0.853</td>\n",
              "</tr>\n",
              "<tr>\n",
              "  <th>ma.L1</th>  <td>   -0.8142</td> <td>    0.040</td> <td>  -20.187</td> <td> 0.000</td> <td>   -0.893</td> <td>   -0.735</td>\n",
              "</tr>\n",
              "<tr>\n",
              "  <th>sigma2</th> <td>    1.3718</td> <td>    0.014</td> <td>   98.110</td> <td> 0.000</td> <td>    1.344</td> <td>    1.399</td>\n",
              "</tr>\n",
              "</table>\n",
              "<table class=\"simpletable\">\n",
              "<tr>\n",
              "  <th>Ljung-Box (L1) (Q):</th>     <td>2.06</td> <th>  Jarque-Bera (JB):  </th> <td>7488.92</td>\n",
              "</tr>\n",
              "<tr>\n",
              "  <th>Prob(Q):</th>                <td>0.15</td> <th>  Prob(JB):          </th>  <td>0.00</td>  \n",
              "</tr>\n",
              "<tr>\n",
              "  <th>Heteroskedasticity (H):</th> <td>2.03</td> <th>  Skew:              </th>  <td>-0.18</td> \n",
              "</tr>\n",
              "<tr>\n",
              "  <th>Prob(H) (two-sided):</th>    <td>0.00</td> <th>  Kurtosis:          </th>  <td>8.97</td>  \n",
              "</tr>\n",
              "</table><br/><br/>Warnings:<br/>[1] Covariance matrix calculated using the outer product of gradients (complex-step)."
            ],
            "text/latex": "\\begin{center}\n\\begin{tabular}{lclc}\n\\toprule\n\\textbf{Dep. Variable:}          &     returns      & \\textbf{  No. Observations:  } &    5020     \\\\\n\\textbf{Model:}                  &  ARIMA(1, 0, 1)  & \\textbf{  Log Likelihood     } & -7916.500   \\\\\n\\textbf{Date:}                   & Fri, 22 Sep 2023 & \\textbf{  AIC                } & 15841.000   \\\\\n\\textbf{Time:}                   &     20:26:54     & \\textbf{  BIC                } & 15867.085   \\\\\n\\textbf{Sample:}                 &    01-10-1994    & \\textbf{  HQIC               } & 15850.140   \\\\\n\\textbf{}                        &   - 04-05-2013   & \\textbf{                     } &             \\\\\n\\textbf{Covariance Type:}        &       opg        & \\textbf{                     } &             \\\\\n\\bottomrule\n\\end{tabular}\n\\begin{tabular}{lcccccc}\n                & \\textbf{coef} & \\textbf{std err} & \\textbf{z} & \\textbf{P$> |$z$|$} & \\textbf{[0.025} & \\textbf{0.975]}  \\\\\n\\midrule\n\\textbf{const}  &       0.0189  &        0.015     &     1.290  &         0.197        &       -0.010    &        0.048     \\\\\n\\textbf{ar.L1}  &       0.7650  &        0.045     &    16.995  &         0.000        &        0.677    &        0.853     \\\\\n\\textbf{ma.L1}  &      -0.8142  &        0.040     &   -20.187  &         0.000        &       -0.893    &       -0.735     \\\\\n\\textbf{sigma2} &       1.3718  &        0.014     &    98.110  &         0.000        &        1.344    &        1.399     \\\\\n\\bottomrule\n\\end{tabular}\n\\begin{tabular}{lclc}\n\\textbf{Ljung-Box (L1) (Q):}     & 2.06 & \\textbf{  Jarque-Bera (JB):  } & 7488.92  \\\\\n\\textbf{Prob(Q):}                & 0.15 & \\textbf{  Prob(JB):          } &   0.00   \\\\\n\\textbf{Heteroskedasticity (H):} & 2.03 & \\textbf{  Skew:              } &  -0.18   \\\\\n\\textbf{Prob(H) (two-sided):}    & 0.00 & \\textbf{  Kurtosis:          } &   8.97   \\\\\n\\bottomrule\n\\end{tabular}\n%\\caption{SARIMAX Results}\n\\end{center}\n\nWarnings: \\newline\n [1] Covariance matrix calculated using the outer product of gradients (complex-step)."
          },
          "metadata": {},
          "execution_count": 7
        }
      ]
    },
    {
      "cell_type": "code",
      "source": [
        "model_ret_ar_1 = sm.tsa.ARIMA(df.returns[1:], order = (1,0,0))\n",
        "model_ret_ma_1 = sm.tsa.ARIMA(df.returns[1:], order = (0,0,1))"
      ],
      "metadata": {
        "id": "V2J9pVgWliiH"
      },
      "execution_count": null,
      "outputs": []
    },
    {
      "cell_type": "code",
      "source": [
        "print(\"\\nARMA vs AR \", LLR_test(model_ret_ar_1, model_ret_ar_1_ma_1))\n",
        "print(\"\\nARMA vs MA \", LLR_test(model_ret_ma_1, model_ret_ar_1_ma_1))"
      ],
      "metadata": {
        "colab": {
          "base_uri": "https://localhost:8080/"
        },
        "id": "z8ThCwpulkOV",
        "outputId": "e732f371-6bec-4a84-fab9-664f49de5525"
      },
      "execution_count": null,
      "outputs": [
        {
          "output_type": "stream",
          "name": "stdout",
          "text": [
            "\n",
            "ARMA vs AR  0.0\n",
            "\n",
            "ARMA vs MA  0.0\n"
          ]
        }
      ]
    },
    {
      "cell_type": "code",
      "source": [
        "model_ret_ar_3_ma_3 = sm.tsa.ARIMA(df.returns[1:], order=(3,0,3))\n",
        "results_ret_ar_3_ma_3 = model_ret_ar_3_ma_3.fit()"
      ],
      "metadata": {
        "id": "d_BxKx3XouqZ"
      },
      "execution_count": null,
      "outputs": []
    },
    {
      "cell_type": "code",
      "source": [
        "LLR_test(model_ret_ar_1_ma_1, model_ret_ar_3_ma_3, DF = 4)"
      ],
      "metadata": {
        "colab": {
          "base_uri": "https://localhost:8080/"
        },
        "id": "WWQc3ty6lDCJ",
        "outputId": "5002a537-f6ef-43c6-f443-6b626c853e40"
      },
      "execution_count": null,
      "outputs": [
        {
          "output_type": "execute_result",
          "data": {
            "text/plain": [
              "0.0"
            ]
          },
          "metadata": {},
          "execution_count": 14
        }
      ]
    },
    {
      "cell_type": "code",
      "source": [
        "results_ret_ar_3_ma_3.summary()"
      ],
      "metadata": {
        "id": "kXEwkVq2ousi",
        "colab": {
          "base_uri": "https://localhost:8080/",
          "height": 524
        },
        "outputId": "079d3141-d2ca-4902-88dd-982c58e9998d"
      },
      "execution_count": null,
      "outputs": [
        {
          "output_type": "execute_result",
          "data": {
            "text/plain": [
              "<class 'statsmodels.iolib.summary.Summary'>\n",
              "\"\"\"\n",
              "                               SARIMAX Results                                \n",
              "==============================================================================\n",
              "Dep. Variable:                returns   No. Observations:                 5020\n",
              "Model:                 ARIMA(3, 0, 3)   Log Likelihood               -7893.515\n",
              "Date:                Fri, 22 Sep 2023   AIC                          15803.030\n",
              "Time:                        20:32:39   BIC                          15855.200\n",
              "Sample:                    01-10-1994   HQIC                         15821.311\n",
              "                         - 04-05-2013                                         \n",
              "Covariance Type:                  opg                                         \n",
              "==============================================================================\n",
              "                 coef    std err          z      P>|z|      [0.025      0.975]\n",
              "------------------------------------------------------------------------------\n",
              "const          0.0189      0.015      1.281      0.200      -0.010       0.048\n",
              "ar.L1         -0.1880      0.068     -2.780      0.005      -0.321      -0.055\n",
              "ar.L2         -0.2926      0.054     -5.380      0.000      -0.399      -0.186\n",
              "ar.L3          0.4469      0.062      7.252      0.000       0.326       0.568\n",
              "ma.L1          0.1690      0.063      2.686      0.007       0.046       0.292\n",
              "ma.L2          0.2260      0.052      4.328      0.000       0.124       0.328\n",
              "ma.L3         -0.5442      0.056     -9.632      0.000      -0.655      -0.433\n",
              "sigma2         1.3591      0.015     92.543      0.000       1.330       1.388\n",
              "===================================================================================\n",
              "Ljung-Box (L1) (Q):                   0.18   Jarque-Bera (JB):              6862.43\n",
              "Prob(Q):                              0.67   Prob(JB):                         0.00\n",
              "Heteroskedasticity (H):               2.00   Skew:                            -0.17\n",
              "Prob(H) (two-sided):                  0.00   Kurtosis:                         8.72\n",
              "===================================================================================\n",
              "\n",
              "Warnings:\n",
              "[1] Covariance matrix calculated using the outer product of gradients (complex-step).\n",
              "\"\"\""
            ],
            "text/html": [
              "<table class=\"simpletable\">\n",
              "<caption>SARIMAX Results</caption>\n",
              "<tr>\n",
              "  <th>Dep. Variable:</th>        <td>returns</td>     <th>  No. Observations:  </th>   <td>5020</td>   \n",
              "</tr>\n",
              "<tr>\n",
              "  <th>Model:</th>            <td>ARIMA(3, 0, 3)</td>  <th>  Log Likelihood     </th> <td>-7893.515</td>\n",
              "</tr>\n",
              "<tr>\n",
              "  <th>Date:</th>            <td>Fri, 22 Sep 2023</td> <th>  AIC                </th> <td>15803.030</td>\n",
              "</tr>\n",
              "<tr>\n",
              "  <th>Time:</th>                <td>20:32:39</td>     <th>  BIC                </th> <td>15855.200</td>\n",
              "</tr>\n",
              "<tr>\n",
              "  <th>Sample:</th>             <td>01-10-1994</td>    <th>  HQIC               </th> <td>15821.311</td>\n",
              "</tr>\n",
              "<tr>\n",
              "  <th></th>                   <td>- 04-05-2013</td>   <th>                     </th>     <td> </td>    \n",
              "</tr>\n",
              "<tr>\n",
              "  <th>Covariance Type:</th>        <td>opg</td>       <th>                     </th>     <td> </td>    \n",
              "</tr>\n",
              "</table>\n",
              "<table class=\"simpletable\">\n",
              "<tr>\n",
              "     <td></td>       <th>coef</th>     <th>std err</th>      <th>z</th>      <th>P>|z|</th>  <th>[0.025</th>    <th>0.975]</th>  \n",
              "</tr>\n",
              "<tr>\n",
              "  <th>const</th>  <td>    0.0189</td> <td>    0.015</td> <td>    1.281</td> <td> 0.200</td> <td>   -0.010</td> <td>    0.048</td>\n",
              "</tr>\n",
              "<tr>\n",
              "  <th>ar.L1</th>  <td>   -0.1880</td> <td>    0.068</td> <td>   -2.780</td> <td> 0.005</td> <td>   -0.321</td> <td>   -0.055</td>\n",
              "</tr>\n",
              "<tr>\n",
              "  <th>ar.L2</th>  <td>   -0.2926</td> <td>    0.054</td> <td>   -5.380</td> <td> 0.000</td> <td>   -0.399</td> <td>   -0.186</td>\n",
              "</tr>\n",
              "<tr>\n",
              "  <th>ar.L3</th>  <td>    0.4469</td> <td>    0.062</td> <td>    7.252</td> <td> 0.000</td> <td>    0.326</td> <td>    0.568</td>\n",
              "</tr>\n",
              "<tr>\n",
              "  <th>ma.L1</th>  <td>    0.1690</td> <td>    0.063</td> <td>    2.686</td> <td> 0.007</td> <td>    0.046</td> <td>    0.292</td>\n",
              "</tr>\n",
              "<tr>\n",
              "  <th>ma.L2</th>  <td>    0.2260</td> <td>    0.052</td> <td>    4.328</td> <td> 0.000</td> <td>    0.124</td> <td>    0.328</td>\n",
              "</tr>\n",
              "<tr>\n",
              "  <th>ma.L3</th>  <td>   -0.5442</td> <td>    0.056</td> <td>   -9.632</td> <td> 0.000</td> <td>   -0.655</td> <td>   -0.433</td>\n",
              "</tr>\n",
              "<tr>\n",
              "  <th>sigma2</th> <td>    1.3591</td> <td>    0.015</td> <td>   92.543</td> <td> 0.000</td> <td>    1.330</td> <td>    1.388</td>\n",
              "</tr>\n",
              "</table>\n",
              "<table class=\"simpletable\">\n",
              "<tr>\n",
              "  <th>Ljung-Box (L1) (Q):</th>     <td>0.18</td> <th>  Jarque-Bera (JB):  </th> <td>6862.43</td>\n",
              "</tr>\n",
              "<tr>\n",
              "  <th>Prob(Q):</th>                <td>0.67</td> <th>  Prob(JB):          </th>  <td>0.00</td>  \n",
              "</tr>\n",
              "<tr>\n",
              "  <th>Heteroskedasticity (H):</th> <td>2.00</td> <th>  Skew:              </th>  <td>-0.17</td> \n",
              "</tr>\n",
              "<tr>\n",
              "  <th>Prob(H) (two-sided):</th>    <td>0.00</td> <th>  Kurtosis:          </th>  <td>8.72</td>  \n",
              "</tr>\n",
              "</table><br/><br/>Warnings:<br/>[1] Covariance matrix calculated using the outer product of gradients (complex-step)."
            ],
            "text/latex": "\\begin{center}\n\\begin{tabular}{lclc}\n\\toprule\n\\textbf{Dep. Variable:}          &     returns      & \\textbf{  No. Observations:  } &    5020     \\\\\n\\textbf{Model:}                  &  ARIMA(3, 0, 3)  & \\textbf{  Log Likelihood     } & -7893.515   \\\\\n\\textbf{Date:}                   & Fri, 22 Sep 2023 & \\textbf{  AIC                } & 15803.030   \\\\\n\\textbf{Time:}                   &     20:32:39     & \\textbf{  BIC                } & 15855.200   \\\\\n\\textbf{Sample:}                 &    01-10-1994    & \\textbf{  HQIC               } & 15821.311   \\\\\n\\textbf{}                        &   - 04-05-2013   & \\textbf{                     } &             \\\\\n\\textbf{Covariance Type:}        &       opg        & \\textbf{                     } &             \\\\\n\\bottomrule\n\\end{tabular}\n\\begin{tabular}{lcccccc}\n                & \\textbf{coef} & \\textbf{std err} & \\textbf{z} & \\textbf{P$> |$z$|$} & \\textbf{[0.025} & \\textbf{0.975]}  \\\\\n\\midrule\n\\textbf{const}  &       0.0189  &        0.015     &     1.281  &         0.200        &       -0.010    &        0.048     \\\\\n\\textbf{ar.L1}  &      -0.1880  &        0.068     &    -2.780  &         0.005        &       -0.321    &       -0.055     \\\\\n\\textbf{ar.L2}  &      -0.2926  &        0.054     &    -5.380  &         0.000        &       -0.399    &       -0.186     \\\\\n\\textbf{ar.L3}  &       0.4469  &        0.062     &     7.252  &         0.000        &        0.326    &        0.568     \\\\\n\\textbf{ma.L1}  &       0.1690  &        0.063     &     2.686  &         0.007        &        0.046    &        0.292     \\\\\n\\textbf{ma.L2}  &       0.2260  &        0.052     &     4.328  &         0.000        &        0.124    &        0.328     \\\\\n\\textbf{ma.L3}  &      -0.5442  &        0.056     &    -9.632  &         0.000        &       -0.655    &       -0.433     \\\\\n\\textbf{sigma2} &       1.3591  &        0.015     &    92.543  &         0.000        &        1.330    &        1.388     \\\\\n\\bottomrule\n\\end{tabular}\n\\begin{tabular}{lclc}\n\\textbf{Ljung-Box (L1) (Q):}     & 0.18 & \\textbf{  Jarque-Bera (JB):  } & 6862.43  \\\\\n\\textbf{Prob(Q):}                & 0.67 & \\textbf{  Prob(JB):          } &   0.00   \\\\\n\\textbf{Heteroskedasticity (H):} & 2.00 & \\textbf{  Skew:              } &  -0.17   \\\\\n\\textbf{Prob(H) (two-sided):}    & 0.00 & \\textbf{  Kurtosis:          } &   8.72   \\\\\n\\bottomrule\n\\end{tabular}\n%\\caption{SARIMAX Results}\n\\end{center}\n\nWarnings: \\newline\n [1] Covariance matrix calculated using the outer product of gradients (complex-step)."
          },
          "metadata": {},
          "execution_count": 15
        }
      ]
    },
    {
      "cell_type": "code",
      "source": [
        "model_ret_ar_3_ma_2 = sm.tsa.ARIMA(df.returns[1:], order=(3,0,2))\n",
        "results_ret_ar_3_ma_2 = model_ret_ar_3_ma_2.fit()\n",
        "results_ret_ar_3_ma_2.summary()"
      ],
      "metadata": {
        "id": "HipMJxS0ouuR",
        "colab": {
          "base_uri": "https://localhost:8080/",
          "height": 504
        },
        "outputId": "219a78c4-1f51-4aef-f12f-0ba6bd5c48f9"
      },
      "execution_count": null,
      "outputs": [
        {
          "output_type": "execute_result",
          "data": {
            "text/plain": [
              "<class 'statsmodels.iolib.summary.Summary'>\n",
              "\"\"\"\n",
              "                               SARIMAX Results                                \n",
              "==============================================================================\n",
              "Dep. Variable:                returns   No. Observations:                 5020\n",
              "Model:                 ARIMA(3, 0, 2)   Log Likelihood               -7895.747\n",
              "Date:                Fri, 22 Sep 2023   AIC                          15805.495\n",
              "Time:                        20:37:36   BIC                          15851.143\n",
              "Sample:                    01-10-1994   HQIC                         15821.491\n",
              "                         - 04-05-2013                                         \n",
              "Covariance Type:                  opg                                         \n",
              "==============================================================================\n",
              "                 coef    std err          z      P>|z|      [0.025      0.975]\n",
              "------------------------------------------------------------------------------\n",
              "const          0.0188      0.016      1.211      0.226      -0.012       0.049\n",
              "ar.L1         -0.6778      0.055    -12.298      0.000      -0.786      -0.570\n",
              "ar.L2         -0.5082      0.063     -8.035      0.000      -0.632      -0.384\n",
              "ar.L3         -0.1141      0.009    -12.755      0.000      -0.132      -0.097\n",
              "ma.L1          0.6561      0.056     11.747      0.000       0.547       0.766\n",
              "ma.L2          0.4468      0.064      7.031      0.000       0.322       0.571\n",
              "sigma2         1.3604      0.015     91.796      0.000       1.331       1.389\n",
              "===================================================================================\n",
              "Ljung-Box (L1) (Q):                   0.00   Jarque-Bera (JB):              6513.61\n",
              "Prob(Q):                              1.00   Prob(JB):                         0.00\n",
              "Heteroskedasticity (H):               1.99   Skew:                            -0.11\n",
              "Prob(H) (two-sided):                  0.00   Kurtosis:                         8.58\n",
              "===================================================================================\n",
              "\n",
              "Warnings:\n",
              "[1] Covariance matrix calculated using the outer product of gradients (complex-step).\n",
              "\"\"\""
            ],
            "text/html": [
              "<table class=\"simpletable\">\n",
              "<caption>SARIMAX Results</caption>\n",
              "<tr>\n",
              "  <th>Dep. Variable:</th>        <td>returns</td>     <th>  No. Observations:  </th>   <td>5020</td>   \n",
              "</tr>\n",
              "<tr>\n",
              "  <th>Model:</th>            <td>ARIMA(3, 0, 2)</td>  <th>  Log Likelihood     </th> <td>-7895.747</td>\n",
              "</tr>\n",
              "<tr>\n",
              "  <th>Date:</th>            <td>Fri, 22 Sep 2023</td> <th>  AIC                </th> <td>15805.495</td>\n",
              "</tr>\n",
              "<tr>\n",
              "  <th>Time:</th>                <td>20:37:36</td>     <th>  BIC                </th> <td>15851.143</td>\n",
              "</tr>\n",
              "<tr>\n",
              "  <th>Sample:</th>             <td>01-10-1994</td>    <th>  HQIC               </th> <td>15821.491</td>\n",
              "</tr>\n",
              "<tr>\n",
              "  <th></th>                   <td>- 04-05-2013</td>   <th>                     </th>     <td> </td>    \n",
              "</tr>\n",
              "<tr>\n",
              "  <th>Covariance Type:</th>        <td>opg</td>       <th>                     </th>     <td> </td>    \n",
              "</tr>\n",
              "</table>\n",
              "<table class=\"simpletable\">\n",
              "<tr>\n",
              "     <td></td>       <th>coef</th>     <th>std err</th>      <th>z</th>      <th>P>|z|</th>  <th>[0.025</th>    <th>0.975]</th>  \n",
              "</tr>\n",
              "<tr>\n",
              "  <th>const</th>  <td>    0.0188</td> <td>    0.016</td> <td>    1.211</td> <td> 0.226</td> <td>   -0.012</td> <td>    0.049</td>\n",
              "</tr>\n",
              "<tr>\n",
              "  <th>ar.L1</th>  <td>   -0.6778</td> <td>    0.055</td> <td>  -12.298</td> <td> 0.000</td> <td>   -0.786</td> <td>   -0.570</td>\n",
              "</tr>\n",
              "<tr>\n",
              "  <th>ar.L2</th>  <td>   -0.5082</td> <td>    0.063</td> <td>   -8.035</td> <td> 0.000</td> <td>   -0.632</td> <td>   -0.384</td>\n",
              "</tr>\n",
              "<tr>\n",
              "  <th>ar.L3</th>  <td>   -0.1141</td> <td>    0.009</td> <td>  -12.755</td> <td> 0.000</td> <td>   -0.132</td> <td>   -0.097</td>\n",
              "</tr>\n",
              "<tr>\n",
              "  <th>ma.L1</th>  <td>    0.6561</td> <td>    0.056</td> <td>   11.747</td> <td> 0.000</td> <td>    0.547</td> <td>    0.766</td>\n",
              "</tr>\n",
              "<tr>\n",
              "  <th>ma.L2</th>  <td>    0.4468</td> <td>    0.064</td> <td>    7.031</td> <td> 0.000</td> <td>    0.322</td> <td>    0.571</td>\n",
              "</tr>\n",
              "<tr>\n",
              "  <th>sigma2</th> <td>    1.3604</td> <td>    0.015</td> <td>   91.796</td> <td> 0.000</td> <td>    1.331</td> <td>    1.389</td>\n",
              "</tr>\n",
              "</table>\n",
              "<table class=\"simpletable\">\n",
              "<tr>\n",
              "  <th>Ljung-Box (L1) (Q):</th>     <td>0.00</td> <th>  Jarque-Bera (JB):  </th> <td>6513.61</td>\n",
              "</tr>\n",
              "<tr>\n",
              "  <th>Prob(Q):</th>                <td>1.00</td> <th>  Prob(JB):          </th>  <td>0.00</td>  \n",
              "</tr>\n",
              "<tr>\n",
              "  <th>Heteroskedasticity (H):</th> <td>1.99</td> <th>  Skew:              </th>  <td>-0.11</td> \n",
              "</tr>\n",
              "<tr>\n",
              "  <th>Prob(H) (two-sided):</th>    <td>0.00</td> <th>  Kurtosis:          </th>  <td>8.58</td>  \n",
              "</tr>\n",
              "</table><br/><br/>Warnings:<br/>[1] Covariance matrix calculated using the outer product of gradients (complex-step)."
            ],
            "text/latex": "\\begin{center}\n\\begin{tabular}{lclc}\n\\toprule\n\\textbf{Dep. Variable:}          &     returns      & \\textbf{  No. Observations:  } &    5020     \\\\\n\\textbf{Model:}                  &  ARIMA(3, 0, 2)  & \\textbf{  Log Likelihood     } & -7895.747   \\\\\n\\textbf{Date:}                   & Fri, 22 Sep 2023 & \\textbf{  AIC                } & 15805.495   \\\\\n\\textbf{Time:}                   &     20:37:36     & \\textbf{  BIC                } & 15851.143   \\\\\n\\textbf{Sample:}                 &    01-10-1994    & \\textbf{  HQIC               } & 15821.491   \\\\\n\\textbf{}                        &   - 04-05-2013   & \\textbf{                     } &             \\\\\n\\textbf{Covariance Type:}        &       opg        & \\textbf{                     } &             \\\\\n\\bottomrule\n\\end{tabular}\n\\begin{tabular}{lcccccc}\n                & \\textbf{coef} & \\textbf{std err} & \\textbf{z} & \\textbf{P$> |$z$|$} & \\textbf{[0.025} & \\textbf{0.975]}  \\\\\n\\midrule\n\\textbf{const}  &       0.0188  &        0.016     &     1.211  &         0.226        &       -0.012    &        0.049     \\\\\n\\textbf{ar.L1}  &      -0.6778  &        0.055     &   -12.298  &         0.000        &       -0.786    &       -0.570     \\\\\n\\textbf{ar.L2}  &      -0.5082  &        0.063     &    -8.035  &         0.000        &       -0.632    &       -0.384     \\\\\n\\textbf{ar.L3}  &      -0.1141  &        0.009     &   -12.755  &         0.000        &       -0.132    &       -0.097     \\\\\n\\textbf{ma.L1}  &       0.6561  &        0.056     &    11.747  &         0.000        &        0.547    &        0.766     \\\\\n\\textbf{ma.L2}  &       0.4468  &        0.064     &     7.031  &         0.000        &        0.322    &        0.571     \\\\\n\\textbf{sigma2} &       1.3604  &        0.015     &    91.796  &         0.000        &        1.331    &        1.389     \\\\\n\\bottomrule\n\\end{tabular}\n\\begin{tabular}{lclc}\n\\textbf{Ljung-Box (L1) (Q):}     & 0.00 & \\textbf{  Jarque-Bera (JB):  } & 6513.61  \\\\\n\\textbf{Prob(Q):}                & 1.00 & \\textbf{  Prob(JB):          } &   0.00   \\\\\n\\textbf{Heteroskedasticity (H):} & 1.99 & \\textbf{  Skew:              } &  -0.11   \\\\\n\\textbf{Prob(H) (two-sided):}    & 0.00 & \\textbf{  Kurtosis:          } &   8.58   \\\\\n\\bottomrule\n\\end{tabular}\n%\\caption{SARIMAX Results}\n\\end{center}\n\nWarnings: \\newline\n [1] Covariance matrix calculated using the outer product of gradients (complex-step)."
          },
          "metadata": {},
          "execution_count": 16
        }
      ]
    },
    {
      "cell_type": "code",
      "source": [
        "model_ret_ar_2_ma_3 = sm.tsa.ARIMA(df.returns[1:], order=(2,0,3))\n",
        "results_ret_ar_2_ma_3 = model_ret_ar_2_ma_3.fit()\n",
        "results_ret_ar_2_ma_3.summary()"
      ],
      "metadata": {
        "id": "O_Hz6o9houwM",
        "colab": {
          "base_uri": "https://localhost:8080/",
          "height": 504
        },
        "outputId": "8f0a7a74-4774-4e25-b094-0dd347762358"
      },
      "execution_count": null,
      "outputs": [
        {
          "output_type": "execute_result",
          "data": {
            "text/plain": [
              "<class 'statsmodels.iolib.summary.Summary'>\n",
              "\"\"\"\n",
              "                               SARIMAX Results                                \n",
              "==============================================================================\n",
              "Dep. Variable:                returns   No. Observations:                 5020\n",
              "Model:                 ARIMA(2, 0, 3)   Log Likelihood               -7895.587\n",
              "Date:                Fri, 22 Sep 2023   AIC                          15805.175\n",
              "Time:                        20:37:52   BIC                          15850.823\n",
              "Sample:                    01-10-1994   HQIC                         15821.170\n",
              "                         - 04-05-2013                                         \n",
              "Covariance Type:                  opg                                         \n",
              "==============================================================================\n",
              "                 coef    std err          z      P>|z|      [0.025      0.975]\n",
              "------------------------------------------------------------------------------\n",
              "const          0.0188      0.015      1.224      0.221      -0.011       0.049\n",
              "ar.L1         -0.5600      0.057     -9.777      0.000      -0.672      -0.448\n",
              "ar.L2         -0.4178      0.065     -6.381      0.000      -0.546      -0.289\n",
              "ma.L1          0.5373      0.057      9.417      0.000       0.425       0.649\n",
              "ma.L2          0.3531      0.066      5.383      0.000       0.225       0.482\n",
              "ma.L3         -0.1159      0.009    -12.679      0.000      -0.134      -0.098\n",
              "sigma2         1.3604      0.015     91.315      0.000       1.331       1.390\n",
              "===================================================================================\n",
              "Ljung-Box (L1) (Q):                   0.00   Jarque-Bera (JB):              6515.27\n",
              "Prob(Q):                              0.99   Prob(JB):                         0.00\n",
              "Heteroskedasticity (H):               1.99   Skew:                            -0.12\n",
              "Prob(H) (two-sided):                  0.00   Kurtosis:                         8.58\n",
              "===================================================================================\n",
              "\n",
              "Warnings:\n",
              "[1] Covariance matrix calculated using the outer product of gradients (complex-step).\n",
              "\"\"\""
            ],
            "text/html": [
              "<table class=\"simpletable\">\n",
              "<caption>SARIMAX Results</caption>\n",
              "<tr>\n",
              "  <th>Dep. Variable:</th>        <td>returns</td>     <th>  No. Observations:  </th>   <td>5020</td>   \n",
              "</tr>\n",
              "<tr>\n",
              "  <th>Model:</th>            <td>ARIMA(2, 0, 3)</td>  <th>  Log Likelihood     </th> <td>-7895.587</td>\n",
              "</tr>\n",
              "<tr>\n",
              "  <th>Date:</th>            <td>Fri, 22 Sep 2023</td> <th>  AIC                </th> <td>15805.175</td>\n",
              "</tr>\n",
              "<tr>\n",
              "  <th>Time:</th>                <td>20:37:52</td>     <th>  BIC                </th> <td>15850.823</td>\n",
              "</tr>\n",
              "<tr>\n",
              "  <th>Sample:</th>             <td>01-10-1994</td>    <th>  HQIC               </th> <td>15821.170</td>\n",
              "</tr>\n",
              "<tr>\n",
              "  <th></th>                   <td>- 04-05-2013</td>   <th>                     </th>     <td> </td>    \n",
              "</tr>\n",
              "<tr>\n",
              "  <th>Covariance Type:</th>        <td>opg</td>       <th>                     </th>     <td> </td>    \n",
              "</tr>\n",
              "</table>\n",
              "<table class=\"simpletable\">\n",
              "<tr>\n",
              "     <td></td>       <th>coef</th>     <th>std err</th>      <th>z</th>      <th>P>|z|</th>  <th>[0.025</th>    <th>0.975]</th>  \n",
              "</tr>\n",
              "<tr>\n",
              "  <th>const</th>  <td>    0.0188</td> <td>    0.015</td> <td>    1.224</td> <td> 0.221</td> <td>   -0.011</td> <td>    0.049</td>\n",
              "</tr>\n",
              "<tr>\n",
              "  <th>ar.L1</th>  <td>   -0.5600</td> <td>    0.057</td> <td>   -9.777</td> <td> 0.000</td> <td>   -0.672</td> <td>   -0.448</td>\n",
              "</tr>\n",
              "<tr>\n",
              "  <th>ar.L2</th>  <td>   -0.4178</td> <td>    0.065</td> <td>   -6.381</td> <td> 0.000</td> <td>   -0.546</td> <td>   -0.289</td>\n",
              "</tr>\n",
              "<tr>\n",
              "  <th>ma.L1</th>  <td>    0.5373</td> <td>    0.057</td> <td>    9.417</td> <td> 0.000</td> <td>    0.425</td> <td>    0.649</td>\n",
              "</tr>\n",
              "<tr>\n",
              "  <th>ma.L2</th>  <td>    0.3531</td> <td>    0.066</td> <td>    5.383</td> <td> 0.000</td> <td>    0.225</td> <td>    0.482</td>\n",
              "</tr>\n",
              "<tr>\n",
              "  <th>ma.L3</th>  <td>   -0.1159</td> <td>    0.009</td> <td>  -12.679</td> <td> 0.000</td> <td>   -0.134</td> <td>   -0.098</td>\n",
              "</tr>\n",
              "<tr>\n",
              "  <th>sigma2</th> <td>    1.3604</td> <td>    0.015</td> <td>   91.315</td> <td> 0.000</td> <td>    1.331</td> <td>    1.390</td>\n",
              "</tr>\n",
              "</table>\n",
              "<table class=\"simpletable\">\n",
              "<tr>\n",
              "  <th>Ljung-Box (L1) (Q):</th>     <td>0.00</td> <th>  Jarque-Bera (JB):  </th> <td>6515.27</td>\n",
              "</tr>\n",
              "<tr>\n",
              "  <th>Prob(Q):</th>                <td>0.99</td> <th>  Prob(JB):          </th>  <td>0.00</td>  \n",
              "</tr>\n",
              "<tr>\n",
              "  <th>Heteroskedasticity (H):</th> <td>1.99</td> <th>  Skew:              </th>  <td>-0.12</td> \n",
              "</tr>\n",
              "<tr>\n",
              "  <th>Prob(H) (two-sided):</th>    <td>0.00</td> <th>  Kurtosis:          </th>  <td>8.58</td>  \n",
              "</tr>\n",
              "</table><br/><br/>Warnings:<br/>[1] Covariance matrix calculated using the outer product of gradients (complex-step)."
            ],
            "text/latex": "\\begin{center}\n\\begin{tabular}{lclc}\n\\toprule\n\\textbf{Dep. Variable:}          &     returns      & \\textbf{  No. Observations:  } &    5020     \\\\\n\\textbf{Model:}                  &  ARIMA(2, 0, 3)  & \\textbf{  Log Likelihood     } & -7895.587   \\\\\n\\textbf{Date:}                   & Fri, 22 Sep 2023 & \\textbf{  AIC                } & 15805.175   \\\\\n\\textbf{Time:}                   &     20:37:52     & \\textbf{  BIC                } & 15850.823   \\\\\n\\textbf{Sample:}                 &    01-10-1994    & \\textbf{  HQIC               } & 15821.170   \\\\\n\\textbf{}                        &   - 04-05-2013   & \\textbf{                     } &             \\\\\n\\textbf{Covariance Type:}        &       opg        & \\textbf{                     } &             \\\\\n\\bottomrule\n\\end{tabular}\n\\begin{tabular}{lcccccc}\n                & \\textbf{coef} & \\textbf{std err} & \\textbf{z} & \\textbf{P$> |$z$|$} & \\textbf{[0.025} & \\textbf{0.975]}  \\\\\n\\midrule\n\\textbf{const}  &       0.0188  &        0.015     &     1.224  &         0.221        &       -0.011    &        0.049     \\\\\n\\textbf{ar.L1}  &      -0.5600  &        0.057     &    -9.777  &         0.000        &       -0.672    &       -0.448     \\\\\n\\textbf{ar.L2}  &      -0.4178  &        0.065     &    -6.381  &         0.000        &       -0.546    &       -0.289     \\\\\n\\textbf{ma.L1}  &       0.5373  &        0.057     &     9.417  &         0.000        &        0.425    &        0.649     \\\\\n\\textbf{ma.L2}  &       0.3531  &        0.066     &     5.383  &         0.000        &        0.225    &        0.482     \\\\\n\\textbf{ma.L3}  &      -0.1159  &        0.009     &   -12.679  &         0.000        &       -0.134    &       -0.098     \\\\\n\\textbf{sigma2} &       1.3604  &        0.015     &    91.315  &         0.000        &        1.331    &        1.390     \\\\\n\\bottomrule\n\\end{tabular}\n\\begin{tabular}{lclc}\n\\textbf{Ljung-Box (L1) (Q):}     & 0.00 & \\textbf{  Jarque-Bera (JB):  } & 6515.27  \\\\\n\\textbf{Prob(Q):}                & 0.99 & \\textbf{  Prob(JB):          } &   0.00   \\\\\n\\textbf{Heteroskedasticity (H):} & 1.99 & \\textbf{  Skew:              } &  -0.12   \\\\\n\\textbf{Prob(H) (two-sided):}    & 0.00 & \\textbf{  Kurtosis:          } &   8.58   \\\\\n\\bottomrule\n\\end{tabular}\n%\\caption{SARIMAX Results}\n\\end{center}\n\nWarnings: \\newline\n [1] Covariance matrix calculated using the outer product of gradients (complex-step)."
          },
          "metadata": {},
          "execution_count": 17
        }
      ]
    },
    {
      "cell_type": "code",
      "source": [
        "LLR_test(model_ret_ar_2_ma_3, model_ret_ar_3_ma_3)"
      ],
      "metadata": {
        "id": "qXtnWY_Touxp",
        "colab": {
          "base_uri": "https://localhost:8080/"
        },
        "outputId": "21455bf4-2481-4a97-d766-286f561bf2b5"
      },
      "execution_count": null,
      "outputs": [
        {
          "output_type": "execute_result",
          "data": {
            "text/plain": [
              "0.042"
            ]
          },
          "metadata": {},
          "execution_count": 18
        }
      ]
    },
    {
      "cell_type": "code",
      "source": [
        "model_ret_ar_3_ma_1 = sm.tsa.ARIMA(df.returns[1:], order=(3,0,1))\n",
        "results_ret_ar_3_ma_1 = model_ret_ar_3_ma_1.fit()\n",
        "results_ret_ar_3_ma_1.summary()"
      ],
      "metadata": {
        "id": "dwTXFb6douzu",
        "colab": {
          "base_uri": "https://localhost:8080/",
          "height": 483
        },
        "outputId": "9c27f560-0bc6-4800-992a-3c08a590b460"
      },
      "execution_count": null,
      "outputs": [
        {
          "output_type": "execute_result",
          "data": {
            "text/plain": [
              "<class 'statsmodels.iolib.summary.Summary'>\n",
              "\"\"\"\n",
              "                               SARIMAX Results                                \n",
              "==============================================================================\n",
              "Dep. Variable:                returns   No. Observations:                 5020\n",
              "Model:                 ARIMA(3, 0, 1)   Log Likelihood               -7899.072\n",
              "Date:                Fri, 22 Sep 2023   AIC                          15810.144\n",
              "Time:                        20:38:34   BIC                          15849.271\n",
              "Sample:                    01-10-1994   HQIC                         15823.855\n",
              "                         - 04-05-2013                                         \n",
              "Covariance Type:                  opg                                         \n",
              "==============================================================================\n",
              "                 coef    std err          z      P>|z|      [0.025      0.975]\n",
              "------------------------------------------------------------------------------\n",
              "const          0.0189      0.015      1.248      0.212      -0.011       0.048\n",
              "ar.L1         -0.5074      0.062     -8.155      0.000      -0.629      -0.385\n",
              "ar.L2         -0.0638      0.009     -7.027      0.000      -0.082      -0.046\n",
              "ar.L3         -0.1102      0.008    -13.610      0.000      -0.126      -0.094\n",
              "ma.L1          0.4836      0.064      7.608      0.000       0.359       0.608\n",
              "sigma2         1.3623      0.015     92.782      0.000       1.334       1.391\n",
              "===================================================================================\n",
              "Ljung-Box (L1) (Q):                   0.01   Jarque-Bera (JB):              6490.60\n",
              "Prob(Q):                              0.94   Prob(JB):                         0.00\n",
              "Heteroskedasticity (H):               2.00   Skew:                            -0.14\n",
              "Prob(H) (two-sided):                  0.00   Kurtosis:                         8.56\n",
              "===================================================================================\n",
              "\n",
              "Warnings:\n",
              "[1] Covariance matrix calculated using the outer product of gradients (complex-step).\n",
              "\"\"\""
            ],
            "text/html": [
              "<table class=\"simpletable\">\n",
              "<caption>SARIMAX Results</caption>\n",
              "<tr>\n",
              "  <th>Dep. Variable:</th>        <td>returns</td>     <th>  No. Observations:  </th>   <td>5020</td>   \n",
              "</tr>\n",
              "<tr>\n",
              "  <th>Model:</th>            <td>ARIMA(3, 0, 1)</td>  <th>  Log Likelihood     </th> <td>-7899.072</td>\n",
              "</tr>\n",
              "<tr>\n",
              "  <th>Date:</th>            <td>Fri, 22 Sep 2023</td> <th>  AIC                </th> <td>15810.144</td>\n",
              "</tr>\n",
              "<tr>\n",
              "  <th>Time:</th>                <td>20:38:34</td>     <th>  BIC                </th> <td>15849.271</td>\n",
              "</tr>\n",
              "<tr>\n",
              "  <th>Sample:</th>             <td>01-10-1994</td>    <th>  HQIC               </th> <td>15823.855</td>\n",
              "</tr>\n",
              "<tr>\n",
              "  <th></th>                   <td>- 04-05-2013</td>   <th>                     </th>     <td> </td>    \n",
              "</tr>\n",
              "<tr>\n",
              "  <th>Covariance Type:</th>        <td>opg</td>       <th>                     </th>     <td> </td>    \n",
              "</tr>\n",
              "</table>\n",
              "<table class=\"simpletable\">\n",
              "<tr>\n",
              "     <td></td>       <th>coef</th>     <th>std err</th>      <th>z</th>      <th>P>|z|</th>  <th>[0.025</th>    <th>0.975]</th>  \n",
              "</tr>\n",
              "<tr>\n",
              "  <th>const</th>  <td>    0.0189</td> <td>    0.015</td> <td>    1.248</td> <td> 0.212</td> <td>   -0.011</td> <td>    0.048</td>\n",
              "</tr>\n",
              "<tr>\n",
              "  <th>ar.L1</th>  <td>   -0.5074</td> <td>    0.062</td> <td>   -8.155</td> <td> 0.000</td> <td>   -0.629</td> <td>   -0.385</td>\n",
              "</tr>\n",
              "<tr>\n",
              "  <th>ar.L2</th>  <td>   -0.0638</td> <td>    0.009</td> <td>   -7.027</td> <td> 0.000</td> <td>   -0.082</td> <td>   -0.046</td>\n",
              "</tr>\n",
              "<tr>\n",
              "  <th>ar.L3</th>  <td>   -0.1102</td> <td>    0.008</td> <td>  -13.610</td> <td> 0.000</td> <td>   -0.126</td> <td>   -0.094</td>\n",
              "</tr>\n",
              "<tr>\n",
              "  <th>ma.L1</th>  <td>    0.4836</td> <td>    0.064</td> <td>    7.608</td> <td> 0.000</td> <td>    0.359</td> <td>    0.608</td>\n",
              "</tr>\n",
              "<tr>\n",
              "  <th>sigma2</th> <td>    1.3623</td> <td>    0.015</td> <td>   92.782</td> <td> 0.000</td> <td>    1.334</td> <td>    1.391</td>\n",
              "</tr>\n",
              "</table>\n",
              "<table class=\"simpletable\">\n",
              "<tr>\n",
              "  <th>Ljung-Box (L1) (Q):</th>     <td>0.01</td> <th>  Jarque-Bera (JB):  </th> <td>6490.60</td>\n",
              "</tr>\n",
              "<tr>\n",
              "  <th>Prob(Q):</th>                <td>0.94</td> <th>  Prob(JB):          </th>  <td>0.00</td>  \n",
              "</tr>\n",
              "<tr>\n",
              "  <th>Heteroskedasticity (H):</th> <td>2.00</td> <th>  Skew:              </th>  <td>-0.14</td> \n",
              "</tr>\n",
              "<tr>\n",
              "  <th>Prob(H) (two-sided):</th>    <td>0.00</td> <th>  Kurtosis:          </th>  <td>8.56</td>  \n",
              "</tr>\n",
              "</table><br/><br/>Warnings:<br/>[1] Covariance matrix calculated using the outer product of gradients (complex-step)."
            ],
            "text/latex": "\\begin{center}\n\\begin{tabular}{lclc}\n\\toprule\n\\textbf{Dep. Variable:}          &     returns      & \\textbf{  No. Observations:  } &    5020     \\\\\n\\textbf{Model:}                  &  ARIMA(3, 0, 1)  & \\textbf{  Log Likelihood     } & -7899.072   \\\\\n\\textbf{Date:}                   & Fri, 22 Sep 2023 & \\textbf{  AIC                } & 15810.144   \\\\\n\\textbf{Time:}                   &     20:38:34     & \\textbf{  BIC                } & 15849.271   \\\\\n\\textbf{Sample:}                 &    01-10-1994    & \\textbf{  HQIC               } & 15823.855   \\\\\n\\textbf{}                        &   - 04-05-2013   & \\textbf{                     } &             \\\\\n\\textbf{Covariance Type:}        &       opg        & \\textbf{                     } &             \\\\\n\\bottomrule\n\\end{tabular}\n\\begin{tabular}{lcccccc}\n                & \\textbf{coef} & \\textbf{std err} & \\textbf{z} & \\textbf{P$> |$z$|$} & \\textbf{[0.025} & \\textbf{0.975]}  \\\\\n\\midrule\n\\textbf{const}  &       0.0189  &        0.015     &     1.248  &         0.212        &       -0.011    &        0.048     \\\\\n\\textbf{ar.L1}  &      -0.5074  &        0.062     &    -8.155  &         0.000        &       -0.629    &       -0.385     \\\\\n\\textbf{ar.L2}  &      -0.0638  &        0.009     &    -7.027  &         0.000        &       -0.082    &       -0.046     \\\\\n\\textbf{ar.L3}  &      -0.1102  &        0.008     &   -13.610  &         0.000        &       -0.126    &       -0.094     \\\\\n\\textbf{ma.L1}  &       0.4836  &        0.064     &     7.608  &         0.000        &        0.359    &        0.608     \\\\\n\\textbf{sigma2} &       1.3623  &        0.015     &    92.782  &         0.000        &        1.334    &        1.391     \\\\\n\\bottomrule\n\\end{tabular}\n\\begin{tabular}{lclc}\n\\textbf{Ljung-Box (L1) (Q):}     & 0.01 & \\textbf{  Jarque-Bera (JB):  } & 6490.60  \\\\\n\\textbf{Prob(Q):}                & 0.94 & \\textbf{  Prob(JB):          } &   0.00   \\\\\n\\textbf{Heteroskedasticity (H):} & 2.00 & \\textbf{  Skew:              } &  -0.14   \\\\\n\\textbf{Prob(H) (two-sided):}    & 0.00 & \\textbf{  Kurtosis:          } &   8.56   \\\\\n\\bottomrule\n\\end{tabular}\n%\\caption{SARIMAX Results}\n\\end{center}\n\nWarnings: \\newline\n [1] Covariance matrix calculated using the outer product of gradients (complex-step)."
          },
          "metadata": {},
          "execution_count": 19
        }
      ]
    },
    {
      "cell_type": "code",
      "source": [
        "LLR_test(model_ret_ar_3_ma_1, model_ret_ar_3_ma_2)"
      ],
      "metadata": {
        "id": "QWvtd88gou2q",
        "colab": {
          "base_uri": "https://localhost:8080/"
        },
        "outputId": "46fdfa3c-f9c1-4299-b9d5-b1b5e6d8ce3b"
      },
      "execution_count": null,
      "outputs": [
        {
          "output_type": "execute_result",
          "data": {
            "text/plain": [
              "0.01"
            ]
          },
          "metadata": {},
          "execution_count": 20
        }
      ]
    },
    {
      "cell_type": "code",
      "source": [
        "model_ret_ar_2_ma_2 = sm.tsa.ARIMA(df.returns[1:], order=(2,0,2))\n",
        "results_ret_ar_2_ma_2 = model_ret_ar_2_ma_2.fit()\n",
        "results_ret_ar_2_ma_2.summary()"
      ],
      "metadata": {
        "id": "lrfC0W6Jou5Z",
        "colab": {
          "base_uri": "https://localhost:8080/",
          "height": 483
        },
        "outputId": "c3a27f20-9641-44fc-88a3-be92419e16c5"
      },
      "execution_count": null,
      "outputs": [
        {
          "output_type": "execute_result",
          "data": {
            "text/plain": [
              "<class 'statsmodels.iolib.summary.Summary'>\n",
              "\"\"\"\n",
              "                               SARIMAX Results                                \n",
              "==============================================================================\n",
              "Dep. Variable:                returns   No. Observations:                 5020\n",
              "Model:                 ARIMA(2, 0, 2)   Log Likelihood               -7914.692\n",
              "Date:                Fri, 22 Sep 2023   AIC                          15841.384\n",
              "Time:                        20:39:14   BIC                          15880.511\n",
              "Sample:                    01-10-1994   HQIC                         15855.095\n",
              "                         - 04-05-2013                                         \n",
              "Covariance Type:                  opg                                         \n",
              "==============================================================================\n",
              "                 coef    std err          z      P>|z|      [0.025      0.975]\n",
              "------------------------------------------------------------------------------\n",
              "const          0.0189      0.015      1.290      0.197      -0.010       0.048\n",
              "ar.L1         -0.0969      0.091     -1.068      0.286      -0.275       0.081\n",
              "ar.L2          0.6975      0.066     10.509      0.000       0.567       0.828\n",
              "ma.L1          0.0399      0.092      0.435      0.663      -0.140       0.220\n",
              "ma.L2         -0.7259      0.071    -10.274      0.000      -0.864      -0.587\n",
              "sigma2         1.3708      0.014     95.248      0.000       1.343       1.399\n",
              "===================================================================================\n",
              "Ljung-Box (L1) (Q):                   4.33   Jarque-Bera (JB):              7237.20\n",
              "Prob(Q):                              0.04   Prob(JB):                         0.00\n",
              "Heteroskedasticity (H):               2.02   Skew:                            -0.19\n",
              "Prob(H) (two-sided):                  0.00   Kurtosis:                         8.87\n",
              "===================================================================================\n",
              "\n",
              "Warnings:\n",
              "[1] Covariance matrix calculated using the outer product of gradients (complex-step).\n",
              "\"\"\""
            ],
            "text/html": [
              "<table class=\"simpletable\">\n",
              "<caption>SARIMAX Results</caption>\n",
              "<tr>\n",
              "  <th>Dep. Variable:</th>        <td>returns</td>     <th>  No. Observations:  </th>   <td>5020</td>   \n",
              "</tr>\n",
              "<tr>\n",
              "  <th>Model:</th>            <td>ARIMA(2, 0, 2)</td>  <th>  Log Likelihood     </th> <td>-7914.692</td>\n",
              "</tr>\n",
              "<tr>\n",
              "  <th>Date:</th>            <td>Fri, 22 Sep 2023</td> <th>  AIC                </th> <td>15841.384</td>\n",
              "</tr>\n",
              "<tr>\n",
              "  <th>Time:</th>                <td>20:39:14</td>     <th>  BIC                </th> <td>15880.511</td>\n",
              "</tr>\n",
              "<tr>\n",
              "  <th>Sample:</th>             <td>01-10-1994</td>    <th>  HQIC               </th> <td>15855.095</td>\n",
              "</tr>\n",
              "<tr>\n",
              "  <th></th>                   <td>- 04-05-2013</td>   <th>                     </th>     <td> </td>    \n",
              "</tr>\n",
              "<tr>\n",
              "  <th>Covariance Type:</th>        <td>opg</td>       <th>                     </th>     <td> </td>    \n",
              "</tr>\n",
              "</table>\n",
              "<table class=\"simpletable\">\n",
              "<tr>\n",
              "     <td></td>       <th>coef</th>     <th>std err</th>      <th>z</th>      <th>P>|z|</th>  <th>[0.025</th>    <th>0.975]</th>  \n",
              "</tr>\n",
              "<tr>\n",
              "  <th>const</th>  <td>    0.0189</td> <td>    0.015</td> <td>    1.290</td> <td> 0.197</td> <td>   -0.010</td> <td>    0.048</td>\n",
              "</tr>\n",
              "<tr>\n",
              "  <th>ar.L1</th>  <td>   -0.0969</td> <td>    0.091</td> <td>   -1.068</td> <td> 0.286</td> <td>   -0.275</td> <td>    0.081</td>\n",
              "</tr>\n",
              "<tr>\n",
              "  <th>ar.L2</th>  <td>    0.6975</td> <td>    0.066</td> <td>   10.509</td> <td> 0.000</td> <td>    0.567</td> <td>    0.828</td>\n",
              "</tr>\n",
              "<tr>\n",
              "  <th>ma.L1</th>  <td>    0.0399</td> <td>    0.092</td> <td>    0.435</td> <td> 0.663</td> <td>   -0.140</td> <td>    0.220</td>\n",
              "</tr>\n",
              "<tr>\n",
              "  <th>ma.L2</th>  <td>   -0.7259</td> <td>    0.071</td> <td>  -10.274</td> <td> 0.000</td> <td>   -0.864</td> <td>   -0.587</td>\n",
              "</tr>\n",
              "<tr>\n",
              "  <th>sigma2</th> <td>    1.3708</td> <td>    0.014</td> <td>   95.248</td> <td> 0.000</td> <td>    1.343</td> <td>    1.399</td>\n",
              "</tr>\n",
              "</table>\n",
              "<table class=\"simpletable\">\n",
              "<tr>\n",
              "  <th>Ljung-Box (L1) (Q):</th>     <td>4.33</td> <th>  Jarque-Bera (JB):  </th> <td>7237.20</td>\n",
              "</tr>\n",
              "<tr>\n",
              "  <th>Prob(Q):</th>                <td>0.04</td> <th>  Prob(JB):          </th>  <td>0.00</td>  \n",
              "</tr>\n",
              "<tr>\n",
              "  <th>Heteroskedasticity (H):</th> <td>2.02</td> <th>  Skew:              </th>  <td>-0.19</td> \n",
              "</tr>\n",
              "<tr>\n",
              "  <th>Prob(H) (two-sided):</th>    <td>0.00</td> <th>  Kurtosis:          </th>  <td>8.87</td>  \n",
              "</tr>\n",
              "</table><br/><br/>Warnings:<br/>[1] Covariance matrix calculated using the outer product of gradients (complex-step)."
            ],
            "text/latex": "\\begin{center}\n\\begin{tabular}{lclc}\n\\toprule\n\\textbf{Dep. Variable:}          &     returns      & \\textbf{  No. Observations:  } &    5020     \\\\\n\\textbf{Model:}                  &  ARIMA(2, 0, 2)  & \\textbf{  Log Likelihood     } & -7914.692   \\\\\n\\textbf{Date:}                   & Fri, 22 Sep 2023 & \\textbf{  AIC                } & 15841.384   \\\\\n\\textbf{Time:}                   &     20:39:14     & \\textbf{  BIC                } & 15880.511   \\\\\n\\textbf{Sample:}                 &    01-10-1994    & \\textbf{  HQIC               } & 15855.095   \\\\\n\\textbf{}                        &   - 04-05-2013   & \\textbf{                     } &             \\\\\n\\textbf{Covariance Type:}        &       opg        & \\textbf{                     } &             \\\\\n\\bottomrule\n\\end{tabular}\n\\begin{tabular}{lcccccc}\n                & \\textbf{coef} & \\textbf{std err} & \\textbf{z} & \\textbf{P$> |$z$|$} & \\textbf{[0.025} & \\textbf{0.975]}  \\\\\n\\midrule\n\\textbf{const}  &       0.0189  &        0.015     &     1.290  &         0.197        &       -0.010    &        0.048     \\\\\n\\textbf{ar.L1}  &      -0.0969  &        0.091     &    -1.068  &         0.286        &       -0.275    &        0.081     \\\\\n\\textbf{ar.L2}  &       0.6975  &        0.066     &    10.509  &         0.000        &        0.567    &        0.828     \\\\\n\\textbf{ma.L1}  &       0.0399  &        0.092     &     0.435  &         0.663        &       -0.140    &        0.220     \\\\\n\\textbf{ma.L2}  &      -0.7259  &        0.071     &   -10.274  &         0.000        &       -0.864    &       -0.587     \\\\\n\\textbf{sigma2} &       1.3708  &        0.014     &    95.248  &         0.000        &        1.343    &        1.399     \\\\\n\\bottomrule\n\\end{tabular}\n\\begin{tabular}{lclc}\n\\textbf{Ljung-Box (L1) (Q):}     & 4.33 & \\textbf{  Jarque-Bera (JB):  } & 7237.20  \\\\\n\\textbf{Prob(Q):}                & 0.04 & \\textbf{  Prob(JB):          } &   0.00   \\\\\n\\textbf{Heteroskedasticity (H):} & 2.02 & \\textbf{  Skew:              } &  -0.19   \\\\\n\\textbf{Prob(H) (two-sided):}    & 0.00 & \\textbf{  Kurtosis:          } &   8.87   \\\\\n\\bottomrule\n\\end{tabular}\n%\\caption{SARIMAX Results}\n\\end{center}\n\nWarnings: \\newline\n [1] Covariance matrix calculated using the outer product of gradients (complex-step)."
          },
          "metadata": {},
          "execution_count": 21
        }
      ]
    },
    {
      "cell_type": "code",
      "source": [
        "model_ret_ar_1_ma_3 = sm.tsa.ARIMA(df.returns[1:], order=(1,0,3))\n",
        "results_ret_ar_1_ma_3 = model_ret_ar_1_ma_3.fit()\n",
        "results_ret_ar_1_ma_3.summary()"
      ],
      "metadata": {
        "id": "6ay0HIlCou7Y",
        "colab": {
          "base_uri": "https://localhost:8080/",
          "height": 483
        },
        "outputId": "e5531382-7c7d-4f33-bd8a-cc40a225979b"
      },
      "execution_count": null,
      "outputs": [
        {
          "output_type": "execute_result",
          "data": {
            "text/plain": [
              "<class 'statsmodels.iolib.summary.Summary'>\n",
              "\"\"\"\n",
              "                               SARIMAX Results                                \n",
              "==============================================================================\n",
              "Dep. Variable:                returns   No. Observations:                 5020\n",
              "Model:                 ARIMA(1, 0, 3)   Log Likelihood               -7896.838\n",
              "Date:                Fri, 22 Sep 2023   AIC                          15805.676\n",
              "Time:                        20:39:19   BIC                          15844.803\n",
              "Sample:                    01-10-1994   HQIC                         15819.386\n",
              "                         - 04-05-2013                                         \n",
              "Covariance Type:                  opg                                         \n",
              "==============================================================================\n",
              "                 coef    std err          z      P>|z|      [0.025      0.975]\n",
              "------------------------------------------------------------------------------\n",
              "const          0.0189      0.015      1.265      0.206      -0.010       0.048\n",
              "ar.L1         -0.4693      0.060     -7.878      0.000      -0.586      -0.353\n",
              "ma.L1          0.4469      0.060      7.437      0.000       0.329       0.565\n",
              "ma.L2         -0.0637      0.009     -7.277      0.000      -0.081      -0.047\n",
              "ma.L3         -0.1182      0.008    -14.693      0.000      -0.134      -0.102\n",
              "sigma2         1.3610      0.015     92.540      0.000       1.332       1.390\n",
              "===================================================================================\n",
              "Ljung-Box (L1) (Q):                   0.00   Jarque-Bera (JB):              6401.49\n",
              "Prob(Q):                              0.96   Prob(JB):                         0.00\n",
              "Heteroskedasticity (H):               2.00   Skew:                            -0.16\n",
              "Prob(H) (two-sided):                  0.00   Kurtosis:                         8.52\n",
              "===================================================================================\n",
              "\n",
              "Warnings:\n",
              "[1] Covariance matrix calculated using the outer product of gradients (complex-step).\n",
              "\"\"\""
            ],
            "text/html": [
              "<table class=\"simpletable\">\n",
              "<caption>SARIMAX Results</caption>\n",
              "<tr>\n",
              "  <th>Dep. Variable:</th>        <td>returns</td>     <th>  No. Observations:  </th>   <td>5020</td>   \n",
              "</tr>\n",
              "<tr>\n",
              "  <th>Model:</th>            <td>ARIMA(1, 0, 3)</td>  <th>  Log Likelihood     </th> <td>-7896.838</td>\n",
              "</tr>\n",
              "<tr>\n",
              "  <th>Date:</th>            <td>Fri, 22 Sep 2023</td> <th>  AIC                </th> <td>15805.676</td>\n",
              "</tr>\n",
              "<tr>\n",
              "  <th>Time:</th>                <td>20:39:19</td>     <th>  BIC                </th> <td>15844.803</td>\n",
              "</tr>\n",
              "<tr>\n",
              "  <th>Sample:</th>             <td>01-10-1994</td>    <th>  HQIC               </th> <td>15819.386</td>\n",
              "</tr>\n",
              "<tr>\n",
              "  <th></th>                   <td>- 04-05-2013</td>   <th>                     </th>     <td> </td>    \n",
              "</tr>\n",
              "<tr>\n",
              "  <th>Covariance Type:</th>        <td>opg</td>       <th>                     </th>     <td> </td>    \n",
              "</tr>\n",
              "</table>\n",
              "<table class=\"simpletable\">\n",
              "<tr>\n",
              "     <td></td>       <th>coef</th>     <th>std err</th>      <th>z</th>      <th>P>|z|</th>  <th>[0.025</th>    <th>0.975]</th>  \n",
              "</tr>\n",
              "<tr>\n",
              "  <th>const</th>  <td>    0.0189</td> <td>    0.015</td> <td>    1.265</td> <td> 0.206</td> <td>   -0.010</td> <td>    0.048</td>\n",
              "</tr>\n",
              "<tr>\n",
              "  <th>ar.L1</th>  <td>   -0.4693</td> <td>    0.060</td> <td>   -7.878</td> <td> 0.000</td> <td>   -0.586</td> <td>   -0.353</td>\n",
              "</tr>\n",
              "<tr>\n",
              "  <th>ma.L1</th>  <td>    0.4469</td> <td>    0.060</td> <td>    7.437</td> <td> 0.000</td> <td>    0.329</td> <td>    0.565</td>\n",
              "</tr>\n",
              "<tr>\n",
              "  <th>ma.L2</th>  <td>   -0.0637</td> <td>    0.009</td> <td>   -7.277</td> <td> 0.000</td> <td>   -0.081</td> <td>   -0.047</td>\n",
              "</tr>\n",
              "<tr>\n",
              "  <th>ma.L3</th>  <td>   -0.1182</td> <td>    0.008</td> <td>  -14.693</td> <td> 0.000</td> <td>   -0.134</td> <td>   -0.102</td>\n",
              "</tr>\n",
              "<tr>\n",
              "  <th>sigma2</th> <td>    1.3610</td> <td>    0.015</td> <td>   92.540</td> <td> 0.000</td> <td>    1.332</td> <td>    1.390</td>\n",
              "</tr>\n",
              "</table>\n",
              "<table class=\"simpletable\">\n",
              "<tr>\n",
              "  <th>Ljung-Box (L1) (Q):</th>     <td>0.00</td> <th>  Jarque-Bera (JB):  </th> <td>6401.49</td>\n",
              "</tr>\n",
              "<tr>\n",
              "  <th>Prob(Q):</th>                <td>0.96</td> <th>  Prob(JB):          </th>  <td>0.00</td>  \n",
              "</tr>\n",
              "<tr>\n",
              "  <th>Heteroskedasticity (H):</th> <td>2.00</td> <th>  Skew:              </th>  <td>-0.16</td> \n",
              "</tr>\n",
              "<tr>\n",
              "  <th>Prob(H) (two-sided):</th>    <td>0.00</td> <th>  Kurtosis:          </th>  <td>8.52</td>  \n",
              "</tr>\n",
              "</table><br/><br/>Warnings:<br/>[1] Covariance matrix calculated using the outer product of gradients (complex-step)."
            ],
            "text/latex": "\\begin{center}\n\\begin{tabular}{lclc}\n\\toprule\n\\textbf{Dep. Variable:}          &     returns      & \\textbf{  No. Observations:  } &    5020     \\\\\n\\textbf{Model:}                  &  ARIMA(1, 0, 3)  & \\textbf{  Log Likelihood     } & -7896.838   \\\\\n\\textbf{Date:}                   & Fri, 22 Sep 2023 & \\textbf{  AIC                } & 15805.676   \\\\\n\\textbf{Time:}                   &     20:39:19     & \\textbf{  BIC                } & 15844.803   \\\\\n\\textbf{Sample:}                 &    01-10-1994    & \\textbf{  HQIC               } & 15819.386   \\\\\n\\textbf{}                        &   - 04-05-2013   & \\textbf{                     } &             \\\\\n\\textbf{Covariance Type:}        &       opg        & \\textbf{                     } &             \\\\\n\\bottomrule\n\\end{tabular}\n\\begin{tabular}{lcccccc}\n                & \\textbf{coef} & \\textbf{std err} & \\textbf{z} & \\textbf{P$> |$z$|$} & \\textbf{[0.025} & \\textbf{0.975]}  \\\\\n\\midrule\n\\textbf{const}  &       0.0189  &        0.015     &     1.265  &         0.206        &       -0.010    &        0.048     \\\\\n\\textbf{ar.L1}  &      -0.4693  &        0.060     &    -7.878  &         0.000        &       -0.586    &       -0.353     \\\\\n\\textbf{ma.L1}  &       0.4469  &        0.060     &     7.437  &         0.000        &        0.329    &        0.565     \\\\\n\\textbf{ma.L2}  &      -0.0637  &        0.009     &    -7.277  &         0.000        &       -0.081    &       -0.047     \\\\\n\\textbf{ma.L3}  &      -0.1182  &        0.008     &   -14.693  &         0.000        &       -0.134    &       -0.102     \\\\\n\\textbf{sigma2} &       1.3610  &        0.015     &    92.540  &         0.000        &        1.332    &        1.390     \\\\\n\\bottomrule\n\\end{tabular}\n\\begin{tabular}{lclc}\n\\textbf{Ljung-Box (L1) (Q):}     & 0.00 & \\textbf{  Jarque-Bera (JB):  } & 6401.49  \\\\\n\\textbf{Prob(Q):}                & 0.96 & \\textbf{  Prob(JB):          } &   0.00   \\\\\n\\textbf{Heteroskedasticity (H):} & 2.00 & \\textbf{  Skew:              } &  -0.16   \\\\\n\\textbf{Prob(H) (two-sided):}    & 0.00 & \\textbf{  Kurtosis:          } &   8.52   \\\\\n\\bottomrule\n\\end{tabular}\n%\\caption{SARIMAX Results}\n\\end{center}\n\nWarnings: \\newline\n [1] Covariance matrix calculated using the outer product of gradients (complex-step)."
          },
          "metadata": {},
          "execution_count": 22
        }
      ]
    },
    {
      "cell_type": "code",
      "source": [
        "print(\"\\n ARMA(3,2): \\tLL = \", results_ret_ar_3_ma_2.llf, \"\\tAIC = \", results_ret_ar_3_ma_2.aic)\n",
        "print(\"\\n ARMA(1,3): \\tLL = \", results_ret_ar_1_ma_3.llf, \"\\tAIC = \", results_ret_ar_1_ma_3.aic)"
      ],
      "metadata": {
        "colab": {
          "base_uri": "https://localhost:8080/"
        },
        "id": "lFHKbkWVmVtP",
        "outputId": "d4cd6151-7323-489c-f807-cde941983066"
      },
      "execution_count": null,
      "outputs": [
        {
          "output_type": "stream",
          "name": "stdout",
          "text": [
            "\n",
            " ARMA(3,2): \tLL =  -7895.747490025735 \tAIC =  15805.49498005147\n",
            "\n",
            " ARMA(1,3): \tLL =  -7896.83790920579 \tAIC =  15805.67581841158\n"
          ]
        }
      ]
    },
    {
      "cell_type": "code",
      "source": [
        "df['res_ret_ar_3_ma_2'] = results_ret_ar_3_ma_2.resid[1:]"
      ],
      "metadata": {
        "id": "Rx1jC4hDmV9L"
      },
      "execution_count": null,
      "outputs": []
    },
    {
      "cell_type": "code",
      "source": [
        "df.res_ret_ar_3_ma_2.plot(figsize = (20,5))\n",
        "plt.title(\"Residuals of Returns\", size=24)\n",
        "plt.show()"
      ],
      "metadata": {
        "colab": {
          "base_uri": "https://localhost:8080/",
          "height": 508
        },
        "id": "UZOrTz68mWCO",
        "outputId": "43315451-a746-46ec-f841-0146e401fc4e"
      },
      "execution_count": null,
      "outputs": [
        {
          "output_type": "display_data",
          "data": {
            "text/plain": [
              "<Figure size 2000x500 with 1 Axes>"
            ],
            "image/png": "[encoded data removed]"
          },
          "metadata": {}
        }
      ]
    },
    {
      "cell_type": "code",
      "source": [
        "sgt.plot_acf(df.res_ret_ar_3_ma_2[2:], zero = False, lags = 40)\n",
        "plt.title(\"ACF Of Residuals for Returns\",size=24)\n",
        "plt.show()\n"
      ],
      "metadata": {
        "colab": {
          "base_uri": "https://localhost:8080/",
          "height": 469
        },
        "id": "WOXS12jymWE5",
        "outputId": "f16696b3-d867-41cb-ad8d-18b67a9410ca"
      },
      "execution_count": null,
      "outputs": [
        {
          "output_type": "display_data",
          "data": {
            "text/plain": [
              "<Figure size 640x480 with 1 Axes>"
            ],
            "image/png": "[encoded data removed]"
          },
          "metadata": {}
        }
      ]
    },
    {
      "cell_type": "code",
      "source": [
        "model_ret_ar_5_ma_5 = sm.tsa.ARIMA(df.returns[1:], order=(5,0,5))\n",
        "results_ret_ar_5_ma_5 = model_ret_ar_5_ma_5.fit()\n",
        "results_ret_ar_5_ma_5.summary()"
      ],
      "metadata": {
        "colab": {
          "base_uri": "https://localhost:8080/",
          "height": 608
        },
        "id": "Khyb_rH1mWJy",
        "outputId": "bfe32d08-5f7d-44e5-bae9-a4a4b566b849"
      },
      "execution_count": null,
      "outputs": [
        {
          "output_type": "execute_result",
          "data": {
            "text/plain": [
              "<class 'statsmodels.iolib.summary.Summary'>\n",
              "\"\"\"\n",
              "                               SARIMAX Results                                \n",
              "==============================================================================\n",
              "Dep. Variable:                returns   No. Observations:                 5020\n",
              "Model:                 ARIMA(5, 0, 5)   Log Likelihood               -7882.752\n",
              "Date:                Fri, 22 Sep 2023   AIC                          15789.504\n",
              "Time:                        20:40:26   BIC                          15867.758\n",
              "Sample:                    01-10-1994   HQIC                         15816.925\n",
              "                         - 04-05-2013                                         \n",
              "Covariance Type:                  opg                                         \n",
              "==============================================================================\n",
              "                 coef    std err          z      P>|z|      [0.025      0.975]\n",
              "------------------------------------------------------------------------------\n",
              "const          0.0209      0.015      1.408      0.159      -0.008       0.050\n",
              "ar.L1         -0.0894      0.117     -0.765      0.444      -0.318       0.140\n",
              "ar.L2         -0.5564      0.081     -6.851      0.000      -0.716      -0.397\n",
              "ar.L3         -0.1311      0.077     -1.712      0.087      -0.281       0.019\n",
              "ar.L4          0.2494      0.073      3.408      0.001       0.106       0.393\n",
              "ar.L5          0.1028      0.090      1.145      0.252      -0.073       0.279\n",
              "ma.L1          0.0661      0.117      0.567      0.571      -0.162       0.295\n",
              "ma.L2          0.5060      0.081      6.237      0.000       0.347       0.665\n",
              "ma.L3          0.0314      0.074      0.426      0.670      -0.113       0.176\n",
              "ma.L4         -0.2371      0.071     -3.353      0.001      -0.376      -0.099\n",
              "ma.L5         -0.1971      0.085     -2.310      0.021      -0.364      -0.030\n",
              "sigma2         1.3544      0.015     90.056      0.000       1.325       1.384\n",
              "===================================================================================\n",
              "Ljung-Box (L1) (Q):                   0.01   Jarque-Bera (JB):              6384.35\n",
              "Prob(Q):                              0.94   Prob(JB):                         0.00\n",
              "Heteroskedasticity (H):               1.99   Skew:                            -0.20\n",
              "Prob(H) (two-sided):                  0.00   Kurtosis:                         8.51\n",
              "===================================================================================\n",
              "\n",
              "Warnings:\n",
              "[1] Covariance matrix calculated using the outer product of gradients (complex-step).\n",
              "\"\"\""
            ],
            "text/html": [
              "<table class=\"simpletable\">\n",
              "<caption>SARIMAX Results</caption>\n",
              "<tr>\n",
              "  <th>Dep. Variable:</th>        <td>returns</td>     <th>  No. Observations:  </th>   <td>5020</td>   \n",
              "</tr>\n",
              "<tr>\n",
              "  <th>Model:</th>            <td>ARIMA(5, 0, 5)</td>  <th>  Log Likelihood     </th> <td>-7882.752</td>\n",
              "</tr>\n",
              "<tr>\n",
              "  <th>Date:</th>            <td>Fri, 22 Sep 2023</td> <th>  AIC                </th> <td>15789.504</td>\n",
              "</tr>\n",
              "<tr>\n",
              "  <th>Time:</th>                <td>20:40:26</td>     <th>  BIC                </th> <td>15867.758</td>\n",
              "</tr>\n",
              "<tr>\n",
              "  <th>Sample:</th>             <td>01-10-1994</td>    <th>  HQIC               </th> <td>15816.925</td>\n",
              "</tr>\n",
              "<tr>\n",
              "  <th></th>                   <td>- 04-05-2013</td>   <th>                     </th>     <td> </td>    \n",
              "</tr>\n",
              "<tr>\n",
              "  <th>Covariance Type:</th>        <td>opg</td>       <th>                     </th>     <td> </td>    \n",
              "</tr>\n",
              "</table>\n",
              "<table class=\"simpletable\">\n",
              "<tr>\n",
              "     <td></td>       <th>coef</th>     <th>std err</th>      <th>z</th>      <th>P>|z|</th>  <th>[0.025</th>    <th>0.975]</th>  \n",
              "</tr>\n",
              "<tr>\n",
              "  <th>const</th>  <td>    0.0209</td> <td>    0.015</td> <td>    1.408</td> <td> 0.159</td> <td>   -0.008</td> <td>    0.050</td>\n",
              "</tr>\n",
              "<tr>\n",
              "  <th>ar.L1</th>  <td>   -0.0894</td> <td>    0.117</td> <td>   -0.765</td> <td> 0.444</td> <td>   -0.318</td> <td>    0.140</td>\n",
              "</tr>\n",
              "<tr>\n",
              "  <th>ar.L2</th>  <td>   -0.5564</td> <td>    0.081</td> <td>   -6.851</td> <td> 0.000</td> <td>   -0.716</td> <td>   -0.397</td>\n",
              "</tr>\n",
              "<tr>\n",
              "  <th>ar.L3</th>  <td>   -0.1311</td> <td>    0.077</td> <td>   -1.712</td> <td> 0.087</td> <td>   -0.281</td> <td>    0.019</td>\n",
              "</tr>\n",
              "<tr>\n",
              "  <th>ar.L4</th>  <td>    0.2494</td> <td>    0.073</td> <td>    3.408</td> <td> 0.001</td> <td>    0.106</td> <td>    0.393</td>\n",
              "</tr>\n",
              "<tr>\n",
              "  <th>ar.L5</th>  <td>    0.1028</td> <td>    0.090</td> <td>    1.145</td> <td> 0.252</td> <td>   -0.073</td> <td>    0.279</td>\n",
              "</tr>\n",
              "<tr>\n",
              "  <th>ma.L1</th>  <td>    0.0661</td> <td>    0.117</td> <td>    0.567</td> <td> 0.571</td> <td>   -0.162</td> <td>    0.295</td>\n",
              "</tr>\n",
              "<tr>\n",
              "  <th>ma.L2</th>  <td>    0.5060</td> <td>    0.081</td> <td>    6.237</td> <td> 0.000</td> <td>    0.347</td> <td>    0.665</td>\n",
              "</tr>\n",
              "<tr>\n",
              "  <th>ma.L3</th>  <td>    0.0314</td> <td>    0.074</td> <td>    0.426</td> <td> 0.670</td> <td>   -0.113</td> <td>    0.176</td>\n",
              "</tr>\n",
              "<tr>\n",
              "  <th>ma.L4</th>  <td>   -0.2371</td> <td>    0.071</td> <td>   -3.353</td> <td> 0.001</td> <td>   -0.376</td> <td>   -0.099</td>\n",
              "</tr>\n",
              "<tr>\n",
              "  <th>ma.L5</th>  <td>   -0.1971</td> <td>    0.085</td> <td>   -2.310</td> <td> 0.021</td> <td>   -0.364</td> <td>   -0.030</td>\n",
              "</tr>\n",
              "<tr>\n",
              "  <th>sigma2</th> <td>    1.3544</td> <td>    0.015</td> <td>   90.056</td> <td> 0.000</td> <td>    1.325</td> <td>    1.384</td>\n",
              "</tr>\n",
              "</table>\n",
              "<table class=\"simpletable\">\n",
              "<tr>\n",
              "  <th>Ljung-Box (L1) (Q):</th>     <td>0.01</td> <th>  Jarque-Bera (JB):  </th> <td>6384.35</td>\n",
              "</tr>\n",
              "<tr>\n",
              "  <th>Prob(Q):</th>                <td>0.94</td> <th>  Prob(JB):          </th>  <td>0.00</td>  \n",
              "</tr>\n",
              "<tr>\n",
              "  <th>Heteroskedasticity (H):</th> <td>1.99</td> <th>  Skew:              </th>  <td>-0.20</td> \n",
              "</tr>\n",
              "<tr>\n",
              "  <th>Prob(H) (two-sided):</th>    <td>0.00</td> <th>  Kurtosis:          </th>  <td>8.51</td>  \n",
              "</tr>\n",
              "</table><br/><br/>Warnings:<br/>[1] Covariance matrix calculated using the outer product of gradients (complex-step)."
            ],
            "text/latex": "\\begin{center}\n\\begin{tabular}{lclc}\n\\toprule\n\\textbf{Dep. Variable:}          &     returns      & \\textbf{  No. Observations:  } &    5020     \\\\\n\\textbf{Model:}                  &  ARIMA(5, 0, 5)  & \\textbf{  Log Likelihood     } & -7882.752   \\\\\n\\textbf{Date:}                   & Fri, 22 Sep 2023 & \\textbf{  AIC                } & 15789.504   \\\\\n\\textbf{Time:}                   &     20:40:26     & \\textbf{  BIC                } & 15867.758   \\\\\n\\textbf{Sample:}                 &    01-10-1994    & \\textbf{  HQIC               } & 15816.925   \\\\\n\\textbf{}                        &   - 04-05-2013   & \\textbf{                     } &             \\\\\n\\textbf{Covariance Type:}        &       opg        & \\textbf{                     } &             \\\\\n\\bottomrule\n\\end{tabular}\n\\begin{tabular}{lcccccc}\n                & \\textbf{coef} & \\textbf{std err} & \\textbf{z} & \\textbf{P$> |$z$|$} & \\textbf{[0.025} & \\textbf{0.975]}  \\\\\n\\midrule\n\\textbf{const}  &       0.0209  &        0.015     &     1.408  &         0.159        &       -0.008    &        0.050     \\\\\n\\textbf{ar.L1}  &      -0.0894  &        0.117     &    -0.765  &         0.444        &       -0.318    &        0.140     \\\\\n\\textbf{ar.L2}  &      -0.5564  &        0.081     &    -6.851  &         0.000        &       -0.716    &       -0.397     \\\\\n\\textbf{ar.L3}  &      -0.1311  &        0.077     &    -1.712  &         0.087        &       -0.281    &        0.019     \\\\\n\\textbf{ar.L4}  &       0.2494  &        0.073     &     3.408  &         0.001        &        0.106    &        0.393     \\\\\n\\textbf{ar.L5}  &       0.1028  &        0.090     &     1.145  &         0.252        &       -0.073    &        0.279     \\\\\n\\textbf{ma.L1}  &       0.0661  &        0.117     &     0.567  &         0.571        &       -0.162    &        0.295     \\\\\n\\textbf{ma.L2}  &       0.5060  &        0.081     &     6.237  &         0.000        &        0.347    &        0.665     \\\\\n\\textbf{ma.L3}  &       0.0314  &        0.074     &     0.426  &         0.670        &       -0.113    &        0.176     \\\\\n\\textbf{ma.L4}  &      -0.2371  &        0.071     &    -3.353  &         0.001        &       -0.376    &       -0.099     \\\\\n\\textbf{ma.L5}  &      -0.1971  &        0.085     &    -2.310  &         0.021        &       -0.364    &       -0.030     \\\\\n\\textbf{sigma2} &       1.3544  &        0.015     &    90.056  &         0.000        &        1.325    &        1.384     \\\\\n\\bottomrule\n\\end{tabular}\n\\begin{tabular}{lclc}\n\\textbf{Ljung-Box (L1) (Q):}     & 0.01 & \\textbf{  Jarque-Bera (JB):  } & 6384.35  \\\\\n\\textbf{Prob(Q):}                & 0.94 & \\textbf{  Prob(JB):          } &   0.00   \\\\\n\\textbf{Heteroskedasticity (H):} & 1.99 & \\textbf{  Skew:              } &  -0.20   \\\\\n\\textbf{Prob(H) (two-sided):}    & 0.00 & \\textbf{  Kurtosis:          } &   8.51   \\\\\n\\bottomrule\n\\end{tabular}\n%\\caption{SARIMAX Results}\n\\end{center}\n\nWarnings: \\newline\n [1] Covariance matrix calculated using the outer product of gradients (complex-step)."
          },
          "metadata": {},
          "execution_count": 27
        }
      ]
    },
    {
      "cell_type": "code",
      "source": [
        "model_ret_ar_5_ma_1 = sm.tsa.ARIMA(df.returns[1:], order=(5,0,1))\n",
        "results_ret_ar_5_ma_1 = model_ret_ar_5_ma_1.fit()\n",
        "results_ret_ar_5_ma_1.summary()"
      ],
      "metadata": {
        "colab": {
          "base_uri": "https://localhost:8080/",
          "height": 524
        },
        "id": "DBPyE6cZmeak",
        "outputId": "b4f0b8e7-8e68-4c1b-8dc9-47111504d0ab"
      },
      "execution_count": null,
      "outputs": [
        {
          "output_type": "execute_result",
          "data": {
            "text/plain": [
              "<class 'statsmodels.iolib.summary.Summary'>\n",
              "\"\"\"\n",
              "                               SARIMAX Results                                \n",
              "==============================================================================\n",
              "Dep. Variable:                returns   No. Observations:                 5020\n",
              "Model:                 ARIMA(5, 0, 1)   Log Likelihood               -7889.311\n",
              "Date:                Fri, 22 Sep 2023   AIC                          15794.623\n",
              "Time:                        20:40:37   BIC                          15846.792\n",
              "Sample:                    01-10-1994   HQIC                         15812.903\n",
              "                         - 04-05-2013                                         \n",
              "Covariance Type:                  opg                                         \n",
              "==============================================================================\n",
              "                 coef    std err          z      P>|z|      [0.025      0.975]\n",
              "------------------------------------------------------------------------------\n",
              "const          0.0189      0.015      1.301      0.193      -0.010       0.047\n",
              "ar.L1          0.3449      0.105      3.270      0.001       0.138       0.552\n",
              "ar.L2         -0.0458      0.009     -4.852      0.000      -0.064      -0.027\n",
              "ar.L3         -0.0651      0.010     -6.435      0.000      -0.085      -0.045\n",
              "ar.L4          0.0742      0.012      6.092      0.000       0.050       0.098\n",
              "ar.L5         -0.0813      0.009     -9.480      0.000      -0.098      -0.064\n",
              "ma.L1         -0.3682      0.106     -3.461      0.001      -0.577      -0.160\n",
              "sigma2         1.3570      0.015     92.269      0.000       1.328       1.386\n",
              "===================================================================================\n",
              "Ljung-Box (L1) (Q):                   0.01   Jarque-Bera (JB):              6468.96\n",
              "Prob(Q):                              0.94   Prob(JB):                         0.00\n",
              "Heteroskedasticity (H):               2.00   Skew:                            -0.20\n",
              "Prob(H) (two-sided):                  0.00   Kurtosis:                         8.55\n",
              "===================================================================================\n",
              "\n",
              "Warnings:\n",
              "[1] Covariance matrix calculated using the outer product of gradients (complex-step).\n",
              "\"\"\""
            ],
            "text/html": [
              "<table class=\"simpletable\">\n",
              "<caption>SARIMAX Results</caption>\n",
              "<tr>\n",
              "  <th>Dep. Variable:</th>        <td>returns</td>     <th>  No. Observations:  </th>   <td>5020</td>   \n",
              "</tr>\n",
              "<tr>\n",
              "  <th>Model:</th>            <td>ARIMA(5, 0, 1)</td>  <th>  Log Likelihood     </th> <td>-7889.311</td>\n",
              "</tr>\n",
              "<tr>\n",
              "  <th>Date:</th>            <td>Fri, 22 Sep 2023</td> <th>  AIC                </th> <td>15794.623</td>\n",
              "</tr>\n",
              "<tr>\n",
              "  <th>Time:</th>                <td>20:40:37</td>     <th>  BIC                </th> <td>15846.792</td>\n",
              "</tr>\n",
              "<tr>\n",
              "  <th>Sample:</th>             <td>01-10-1994</td>    <th>  HQIC               </th> <td>15812.903</td>\n",
              "</tr>\n",
              "<tr>\n",
              "  <th></th>                   <td>- 04-05-2013</td>   <th>                     </th>     <td> </td>    \n",
              "</tr>\n",
              "<tr>\n",
              "  <th>Covariance Type:</th>        <td>opg</td>       <th>                     </th>     <td> </td>    \n",
              "</tr>\n",
              "</table>\n",
              "<table class=\"simpletable\">\n",
              "<tr>\n",
              "     <td></td>       <th>coef</th>     <th>std err</th>      <th>z</th>      <th>P>|z|</th>  <th>[0.025</th>    <th>0.975]</th>  \n",
              "</tr>\n",
              "<tr>\n",
              "  <th>const</th>  <td>    0.0189</td> <td>    0.015</td> <td>    1.301</td> <td> 0.193</td> <td>   -0.010</td> <td>    0.047</td>\n",
              "</tr>\n",
              "<tr>\n",
              "  <th>ar.L1</th>  <td>    0.3449</td> <td>    0.105</td> <td>    3.270</td> <td> 0.001</td> <td>    0.138</td> <td>    0.552</td>\n",
              "</tr>\n",
              "<tr>\n",
              "  <th>ar.L2</th>  <td>   -0.0458</td> <td>    0.009</td> <td>   -4.852</td> <td> 0.000</td> <td>   -0.064</td> <td>   -0.027</td>\n",
              "</tr>\n",
              "<tr>\n",
              "  <th>ar.L3</th>  <td>   -0.0651</td> <td>    0.010</td> <td>   -6.435</td> <td> 0.000</td> <td>   -0.085</td> <td>   -0.045</td>\n",
              "</tr>\n",
              "<tr>\n",
              "  <th>ar.L4</th>  <td>    0.0742</td> <td>    0.012</td> <td>    6.092</td> <td> 0.000</td> <td>    0.050</td> <td>    0.098</td>\n",
              "</tr>\n",
              "<tr>\n",
              "  <th>ar.L5</th>  <td>   -0.0813</td> <td>    0.009</td> <td>   -9.480</td> <td> 0.000</td> <td>   -0.098</td> <td>   -0.064</td>\n",
              "</tr>\n",
              "<tr>\n",
              "  <th>ma.L1</th>  <td>   -0.3682</td> <td>    0.106</td> <td>   -3.461</td> <td> 0.001</td> <td>   -0.577</td> <td>   -0.160</td>\n",
              "</tr>\n",
              "<tr>\n",
              "  <th>sigma2</th> <td>    1.3570</td> <td>    0.015</td> <td>   92.269</td> <td> 0.000</td> <td>    1.328</td> <td>    1.386</td>\n",
              "</tr>\n",
              "</table>\n",
              "<table class=\"simpletable\">\n",
              "<tr>\n",
              "  <th>Ljung-Box (L1) (Q):</th>     <td>0.01</td> <th>  Jarque-Bera (JB):  </th> <td>6468.96</td>\n",
              "</tr>\n",
              "<tr>\n",
              "  <th>Prob(Q):</th>                <td>0.94</td> <th>  Prob(JB):          </th>  <td>0.00</td>  \n",
              "</tr>\n",
              "<tr>\n",
              "  <th>Heteroskedasticity (H):</th> <td>2.00</td> <th>  Skew:              </th>  <td>-0.20</td> \n",
              "</tr>\n",
              "<tr>\n",
              "  <th>Prob(H) (two-sided):</th>    <td>0.00</td> <th>  Kurtosis:          </th>  <td>8.55</td>  \n",
              "</tr>\n",
              "</table><br/><br/>Warnings:<br/>[1] Covariance matrix calculated using the outer product of gradients (complex-step)."
            ],
            "text/latex": "\\begin{center}\n\\begin{tabular}{lclc}\n\\toprule\n\\textbf{Dep. Variable:}          &     returns      & \\textbf{  No. Observations:  } &    5020     \\\\\n\\textbf{Model:}                  &  ARIMA(5, 0, 1)  & \\textbf{  Log Likelihood     } & -7889.311   \\\\\n\\textbf{Date:}                   & Fri, 22 Sep 2023 & \\textbf{  AIC                } & 15794.623   \\\\\n\\textbf{Time:}                   &     20:40:37     & \\textbf{  BIC                } & 15846.792   \\\\\n\\textbf{Sample:}                 &    01-10-1994    & \\textbf{  HQIC               } & 15812.903   \\\\\n\\textbf{}                        &   - 04-05-2013   & \\textbf{                     } &             \\\\\n\\textbf{Covariance Type:}        &       opg        & \\textbf{                     } &             \\\\\n\\bottomrule\n\\end{tabular}\n\\begin{tabular}{lcccccc}\n                & \\textbf{coef} & \\textbf{std err} & \\textbf{z} & \\textbf{P$> |$z$|$} & \\textbf{[0.025} & \\textbf{0.975]}  \\\\\n\\midrule\n\\textbf{const}  &       0.0189  &        0.015     &     1.301  &         0.193        &       -0.010    &        0.047     \\\\\n\\textbf{ar.L1}  &       0.3449  &        0.105     &     3.270  &         0.001        &        0.138    &        0.552     \\\\\n\\textbf{ar.L2}  &      -0.0458  &        0.009     &    -4.852  &         0.000        &       -0.064    &       -0.027     \\\\\n\\textbf{ar.L3}  &      -0.0651  &        0.010     &    -6.435  &         0.000        &       -0.085    &       -0.045     \\\\\n\\textbf{ar.L4}  &       0.0742  &        0.012     &     6.092  &         0.000        &        0.050    &        0.098     \\\\\n\\textbf{ar.L5}  &      -0.0813  &        0.009     &    -9.480  &         0.000        &       -0.098    &       -0.064     \\\\\n\\textbf{ma.L1}  &      -0.3682  &        0.106     &    -3.461  &         0.001        &       -0.577    &       -0.160     \\\\\n\\textbf{sigma2} &       1.3570  &        0.015     &    92.269  &         0.000        &        1.328    &        1.386     \\\\\n\\bottomrule\n\\end{tabular}\n\\begin{tabular}{lclc}\n\\textbf{Ljung-Box (L1) (Q):}     & 0.01 & \\textbf{  Jarque-Bera (JB):  } & 6468.96  \\\\\n\\textbf{Prob(Q):}                & 0.94 & \\textbf{  Prob(JB):          } &   0.00   \\\\\n\\textbf{Heteroskedasticity (H):} & 2.00 & \\textbf{  Skew:              } &  -0.20   \\\\\n\\textbf{Prob(H) (two-sided):}    & 0.00 & \\textbf{  Kurtosis:          } &   8.55   \\\\\n\\bottomrule\n\\end{tabular}\n%\\caption{SARIMAX Results}\n\\end{center}\n\nWarnings: \\newline\n [1] Covariance matrix calculated using the outer product of gradients (complex-step)."
          },
          "metadata": {},
          "execution_count": 28
        }
      ]
    },
    {
      "cell_type": "code",
      "source": [
        "model_ret_ar_1_ma_5 = sm.tsa.ARIMA(df.returns[1:], order=(1,0,5))\n",
        "results_ret_ar_1_ma_5 = model_ret_ar_1_ma_5.fit()\n",
        "results_ret_ar_1_ma_5.summary()"
      ],
      "metadata": {
        "colab": {
          "base_uri": "https://localhost:8080/",
          "height": 524
        },
        "id": "s-aOD7_smedE",
        "outputId": "6229acc4-31a6-4fc7-f423-3eb9026792f4"
      },
      "execution_count": null,
      "outputs": [
        {
          "output_type": "execute_result",
          "data": {
            "text/plain": [
              "<class 'statsmodels.iolib.summary.Summary'>\n",
              "\"\"\"\n",
              "                               SARIMAX Results                                \n",
              "==============================================================================\n",
              "Dep. Variable:                returns   No. Observations:                 5020\n",
              "Model:                 ARIMA(1, 0, 5)   Log Likelihood               -7890.974\n",
              "Date:                Fri, 22 Sep 2023   AIC                          15797.949\n",
              "Time:                        20:40:42   BIC                          15850.118\n",
              "Sample:                    01-10-1994   HQIC                         15816.230\n",
              "                         - 04-05-2013                                         \n",
              "Covariance Type:                  opg                                         \n",
              "==============================================================================\n",
              "                 coef    std err          z      P>|z|      [0.025      0.975]\n",
              "------------------------------------------------------------------------------\n",
              "const          0.0189      0.015      1.297      0.194      -0.010       0.047\n",
              "ar.L1          0.3218      0.133      2.415      0.016       0.061       0.583\n",
              "ma.L1         -0.3467      0.134     -2.593      0.010      -0.609      -0.085\n",
              "ma.L2         -0.0406      0.010     -4.157      0.000      -0.060      -0.021\n",
              "ma.L3         -0.0682      0.011     -6.099      0.000      -0.090      -0.046\n",
              "ma.L4          0.0736      0.015      5.012      0.000       0.045       0.102\n",
              "ma.L5         -0.0682      0.009     -7.411      0.000      -0.086      -0.050\n",
              "sigma2         1.3579      0.015     91.599      0.000       1.329       1.387\n",
              "===================================================================================\n",
              "Ljung-Box (L1) (Q):                   0.00   Jarque-Bera (JB):              6465.72\n",
              "Prob(Q):                              0.95   Prob(JB):                         0.00\n",
              "Heteroskedasticity (H):               2.00   Skew:                            -0.20\n",
              "Prob(H) (two-sided):                  0.00   Kurtosis:                         8.55\n",
              "===================================================================================\n",
              "\n",
              "Warnings:\n",
              "[1] Covariance matrix calculated using the outer product of gradients (complex-step).\n",
              "\"\"\""
            ],
            "text/html": [
              "<table class=\"simpletable\">\n",
              "<caption>SARIMAX Results</caption>\n",
              "<tr>\n",
              "  <th>Dep. Variable:</th>        <td>returns</td>     <th>  No. Observations:  </th>   <td>5020</td>   \n",
              "</tr>\n",
              "<tr>\n",
              "  <th>Model:</th>            <td>ARIMA(1, 0, 5)</td>  <th>  Log Likelihood     </th> <td>-7890.974</td>\n",
              "</tr>\n",
              "<tr>\n",
              "  <th>Date:</th>            <td>Fri, 22 Sep 2023</td> <th>  AIC                </th> <td>15797.949</td>\n",
              "</tr>\n",
              "<tr>\n",
              "  <th>Time:</th>                <td>20:40:42</td>     <th>  BIC                </th> <td>15850.118</td>\n",
              "</tr>\n",
              "<tr>\n",
              "  <th>Sample:</th>             <td>01-10-1994</td>    <th>  HQIC               </th> <td>15816.230</td>\n",
              "</tr>\n",
              "<tr>\n",
              "  <th></th>                   <td>- 04-05-2013</td>   <th>                     </th>     <td> </td>    \n",
              "</tr>\n",
              "<tr>\n",
              "  <th>Covariance Type:</th>        <td>opg</td>       <th>                     </th>     <td> </td>    \n",
              "</tr>\n",
              "</table>\n",
              "<table class=\"simpletable\">\n",
              "<tr>\n",
              "     <td></td>       <th>coef</th>     <th>std err</th>      <th>z</th>      <th>P>|z|</th>  <th>[0.025</th>    <th>0.975]</th>  \n",
              "</tr>\n",
              "<tr>\n",
              "  <th>const</th>  <td>    0.0189</td> <td>    0.015</td> <td>    1.297</td> <td> 0.194</td> <td>   -0.010</td> <td>    0.047</td>\n",
              "</tr>\n",
              "<tr>\n",
              "  <th>ar.L1</th>  <td>    0.3218</td> <td>    0.133</td> <td>    2.415</td> <td> 0.016</td> <td>    0.061</td> <td>    0.583</td>\n",
              "</tr>\n",
              "<tr>\n",
              "  <th>ma.L1</th>  <td>   -0.3467</td> <td>    0.134</td> <td>   -2.593</td> <td> 0.010</td> <td>   -0.609</td> <td>   -0.085</td>\n",
              "</tr>\n",
              "<tr>\n",
              "  <th>ma.L2</th>  <td>   -0.0406</td> <td>    0.010</td> <td>   -4.157</td> <td> 0.000</td> <td>   -0.060</td> <td>   -0.021</td>\n",
              "</tr>\n",
              "<tr>\n",
              "  <th>ma.L3</th>  <td>   -0.0682</td> <td>    0.011</td> <td>   -6.099</td> <td> 0.000</td> <td>   -0.090</td> <td>   -0.046</td>\n",
              "</tr>\n",
              "<tr>\n",
              "  <th>ma.L4</th>  <td>    0.0736</td> <td>    0.015</td> <td>    5.012</td> <td> 0.000</td> <td>    0.045</td> <td>    0.102</td>\n",
              "</tr>\n",
              "<tr>\n",
              "  <th>ma.L5</th>  <td>   -0.0682</td> <td>    0.009</td> <td>   -7.411</td> <td> 0.000</td> <td>   -0.086</td> <td>   -0.050</td>\n",
              "</tr>\n",
              "<tr>\n",
              "  <th>sigma2</th> <td>    1.3579</td> <td>    0.015</td> <td>   91.599</td> <td> 0.000</td> <td>    1.329</td> <td>    1.387</td>\n",
              "</tr>\n",
              "</table>\n",
              "<table class=\"simpletable\">\n",
              "<tr>\n",
              "  <th>Ljung-Box (L1) (Q):</th>     <td>0.00</td> <th>  Jarque-Bera (JB):  </th> <td>6465.72</td>\n",
              "</tr>\n",
              "<tr>\n",
              "  <th>Prob(Q):</th>                <td>0.95</td> <th>  Prob(JB):          </th>  <td>0.00</td>  \n",
              "</tr>\n",
              "<tr>\n",
              "  <th>Heteroskedasticity (H):</th> <td>2.00</td> <th>  Skew:              </th>  <td>-0.20</td> \n",
              "</tr>\n",
              "<tr>\n",
              "  <th>Prob(H) (two-sided):</th>    <td>0.00</td> <th>  Kurtosis:          </th>  <td>8.55</td>  \n",
              "</tr>\n",
              "</table><br/><br/>Warnings:<br/>[1] Covariance matrix calculated using the outer product of gradients (complex-step)."
            ],
            "text/latex": "\\begin{center}\n\\begin{tabular}{lclc}\n\\toprule\n\\textbf{Dep. Variable:}          &     returns      & \\textbf{  No. Observations:  } &    5020     \\\\\n\\textbf{Model:}                  &  ARIMA(1, 0, 5)  & \\textbf{  Log Likelihood     } & -7890.974   \\\\\n\\textbf{Date:}                   & Fri, 22 Sep 2023 & \\textbf{  AIC                } & 15797.949   \\\\\n\\textbf{Time:}                   &     20:40:42     & \\textbf{  BIC                } & 15850.118   \\\\\n\\textbf{Sample:}                 &    01-10-1994    & \\textbf{  HQIC               } & 15816.230   \\\\\n\\textbf{}                        &   - 04-05-2013   & \\textbf{                     } &             \\\\\n\\textbf{Covariance Type:}        &       opg        & \\textbf{                     } &             \\\\\n\\bottomrule\n\\end{tabular}\n\\begin{tabular}{lcccccc}\n                & \\textbf{coef} & \\textbf{std err} & \\textbf{z} & \\textbf{P$> |$z$|$} & \\textbf{[0.025} & \\textbf{0.975]}  \\\\\n\\midrule\n\\textbf{const}  &       0.0189  &        0.015     &     1.297  &         0.194        &       -0.010    &        0.047     \\\\\n\\textbf{ar.L1}  &       0.3218  &        0.133     &     2.415  &         0.016        &        0.061    &        0.583     \\\\\n\\textbf{ma.L1}  &      -0.3467  &        0.134     &    -2.593  &         0.010        &       -0.609    &       -0.085     \\\\\n\\textbf{ma.L2}  &      -0.0406  &        0.010     &    -4.157  &         0.000        &       -0.060    &       -0.021     \\\\\n\\textbf{ma.L3}  &      -0.0682  &        0.011     &    -6.099  &         0.000        &       -0.090    &       -0.046     \\\\\n\\textbf{ma.L4}  &       0.0736  &        0.015     &     5.012  &         0.000        &        0.045    &        0.102     \\\\\n\\textbf{ma.L5}  &      -0.0682  &        0.009     &    -7.411  &         0.000        &       -0.086    &       -0.050     \\\\\n\\textbf{sigma2} &       1.3579  &        0.015     &    91.599  &         0.000        &        1.329    &        1.387     \\\\\n\\bottomrule\n\\end{tabular}\n\\begin{tabular}{lclc}\n\\textbf{Ljung-Box (L1) (Q):}     & 0.00 & \\textbf{  Jarque-Bera (JB):  } & 6465.72  \\\\\n\\textbf{Prob(Q):}                & 0.95 & \\textbf{  Prob(JB):          } &   0.00   \\\\\n\\textbf{Heteroskedasticity (H):} & 2.00 & \\textbf{  Skew:              } &  -0.20   \\\\\n\\textbf{Prob(H) (two-sided):}    & 0.00 & \\textbf{  Kurtosis:          } &   8.55   \\\\\n\\bottomrule\n\\end{tabular}\n%\\caption{SARIMAX Results}\n\\end{center}\n\nWarnings: \\newline\n [1] Covariance matrix calculated using the outer product of gradients (complex-step)."
          },
          "metadata": {},
          "execution_count": 29
        }
      ]
    },
    {
      "cell_type": "code",
      "source": [
        "print(\"ARMA(5,1):  \\t LL = \",results_ret_ar_5_ma_1.llf,\"\\t AIC = \",results_ret_ar_5_ma_1.aic)\n",
        "print(\"ARMA(1,5):  \\t LL = \",results_ret_ar_1_ma_5.llf,\"\\t AIC = \",results_ret_ar_1_ma_5.aic)"
      ],
      "metadata": {
        "colab": {
          "base_uri": "https://localhost:8080/"
        },
        "id": "moHp6h_fmef3",
        "outputId": "a2119ac4-5974-4323-91dc-8659cf360b94"
      },
      "execution_count": null,
      "outputs": [
        {
          "output_type": "stream",
          "name": "stdout",
          "text": [
            "ARMA(5,1):  \t LL =  -7889.311305453215 \t AIC =  15794.62261090643\n",
            "ARMA(1,5):  \t LL =  -7890.974434537854 \t AIC =  15797.948869075708\n"
          ]
        }
      ]
    },
    {
      "cell_type": "code",
      "source": [
        "print(\"ARMA(3,2):  \\t LL = \",results_ret_ar_3_ma_2.llf,\"\\t AIC = \",results_ret_ar_3_ma_2.aic)"
      ],
      "metadata": {
        "colab": {
          "base_uri": "https://localhost:8080/"
        },
        "id": "4miU-7EcmeiU",
        "outputId": "c6aa09f9-b58f-46f4-891a-1bac787337b5"
      },
      "execution_count": null,
      "outputs": [
        {
          "output_type": "stream",
          "name": "stdout",
          "text": [
            "ARMA(3,2):  \t LL =  -7895.747490025735 \t AIC =  15805.49498005147\n"
          ]
        }
      ]
    },
    {
      "cell_type": "code",
      "source": [
        "df['res_ret_ar_5_ma_1'] = results_ret_ar_5_ma_1.resid\n",
        "sgt.plot_acf(df.res_ret_ar_5_ma_1[1:], zero = False, lags = 40)\n",
        "plt.title(\"ACF of Residuals for Returns\",size=24)\n",
        "plt.show()"
      ],
      "metadata": {
        "colab": {
          "base_uri": "https://localhost:8080/",
          "height": 469
        },
        "id": "gSkEOkw6melr",
        "outputId": "d8450281-31d2-43f1-a466-f2b32d28e4ac"
      },
      "execution_count": null,
      "outputs": [
        {
          "output_type": "display_data",
          "data": {
            "text/plain": [
              "<Figure size 640x480 with 1 Axes>"
            ],
            "image/png": "[encoded data removed]"
          },
          "metadata": {}
        }
      ]
    },
    {
      "cell_type": "code",
      "source": [
        "sgt.plot_acf(df.market_value, unbiased=True, zero = False, lags = 40)\n",
        "plt.title(\"Autocorrelation Function for Prices\",size=20)\n",
        "plt.show()"
      ],
      "metadata": {
        "colab": {
          "base_uri": "https://localhost:8080/",
          "height": 465
        },
        "id": "Iz5OXkcHmpns",
        "outputId": "cd008c96-264f-4813-e231-071613681300"
      },
      "execution_count": null,
      "outputs": [
        {
          "output_type": "display_data",
          "data": {
            "text/plain": [
              "<Figure size 640x480 with 1 Axes>"
            ],
            "image/png": "[encoded data removed]"
          },
          "metadata": {}
        }
      ]
    },
    {
      "cell_type": "code",
      "source": [
        "sgt.plot_pacf(df.market_value, lags = 40, alpha = 0.05, zero = False , method = ('ols'))\n",
        "plt.title(\"Partial Autocorrelation Function for Prices\",size=20)\n",
        "plt.show()"
      ],
      "metadata": {
        "colab": {
          "base_uri": "https://localhost:8080/",
          "height": 465
        },
        "id": "U5sn7DPSmpqc",
        "outputId": "a3f0b5fc-3254-4b2d-a169-71092d976d39"
      },
      "execution_count": null,
      "outputs": [
        {
          "output_type": "display_data",
          "data": {
            "text/plain": [
              "<Figure size 640x480 with 1 Axes>"
            ],
            "image/png": "[encoded data removed]"
          },
          "metadata": {}
        }
      ]
    },
    {
      "cell_type": "code",
      "source": [
        "model_ar_1_ma_1 = sm.tsa.ARIMA(df.market_value, order=(1,0,1))\n",
        "results_ar_1_ma_1 = model_ar_1_ma_1.fit()\n",
        "results_ar_1_ma_1.summary()"
      ],
      "metadata": {
        "colab": {
          "base_uri": "https://localhost:8080/",
          "height": 441
        },
        "id": "YNGg19njmpxF",
        "outputId": "b15eb5eb-edfe-48dc-c1b6-723ffd601503"
      },
      "execution_count": null,
      "outputs": [
        {
          "output_type": "execute_result",
          "data": {
            "text/plain": [
              "<class 'statsmodels.iolib.summary.Summary'>\n",
              "\"\"\"\n",
              "                               SARIMAX Results                                \n",
              "==============================================================================\n",
              "Dep. Variable:           market_value   No. Observations:                 5021\n",
              "Model:                 ARIMA(1, 0, 1)   Log Likelihood              -27621.875\n",
              "Date:                Fri, 22 Sep 2023   AIC                          55251.749\n",
              "Time:                        20:41:02   BIC                          55277.835\n",
              "Sample:                    01-07-1994   HQIC                         55260.890\n",
              "                         - 04-05-2013                                         \n",
              "Covariance Type:                  opg                                         \n",
              "==============================================================================\n",
              "                 coef    std err          z      P>|z|      [0.025      0.975]\n",
              "------------------------------------------------------------------------------\n",
              "const       5089.6409    366.501     13.887      0.000    4371.312    5807.970\n",
              "ar.L1          0.9982      0.001   1189.159      0.000       0.997       1.000\n",
              "ma.L1         -0.0186      0.010     -1.894      0.058      -0.038       0.001\n",
              "sigma2      3510.8350     41.068     85.489      0.000    3430.344    3591.326\n",
              "===================================================================================\n",
              "Ljung-Box (L1) (Q):                   0.00   Jarque-Bera (JB):              3280.53\n",
              "Prob(Q):                              0.97   Prob(JB):                         0.00\n",
              "Heteroskedasticity (H):               1.89   Skew:                            -0.19\n",
              "Prob(H) (two-sided):                  0.00   Kurtosis:                         6.94\n",
              "===================================================================================\n",
              "\n",
              "Warnings:\n",
              "[1] Covariance matrix calculated using the outer product of gradients (complex-step).\n",
              "\"\"\""
            ],
            "text/html": [
              "<table class=\"simpletable\">\n",
              "<caption>SARIMAX Results</caption>\n",
              "<tr>\n",
              "  <th>Dep. Variable:</th>     <td>market_value</td>   <th>  No. Observations:  </th>    <td>5021</td>   \n",
              "</tr>\n",
              "<tr>\n",
              "  <th>Model:</th>            <td>ARIMA(1, 0, 1)</td>  <th>  Log Likelihood     </th> <td>-27621.875</td>\n",
              "</tr>\n",
              "<tr>\n",
              "  <th>Date:</th>            <td>Fri, 22 Sep 2023</td> <th>  AIC                </th>  <td>55251.749</td>\n",
              "</tr>\n",
              "<tr>\n",
              "  <th>Time:</th>                <td>20:41:02</td>     <th>  BIC                </th>  <td>55277.835</td>\n",
              "</tr>\n",
              "<tr>\n",
              "  <th>Sample:</th>             <td>01-07-1994</td>    <th>  HQIC               </th>  <td>55260.890</td>\n",
              "</tr>\n",
              "<tr>\n",
              "  <th></th>                   <td>- 04-05-2013</td>   <th>                     </th>      <td> </td>    \n",
              "</tr>\n",
              "<tr>\n",
              "  <th>Covariance Type:</th>        <td>opg</td>       <th>                     </th>      <td> </td>    \n",
              "</tr>\n",
              "</table>\n",
              "<table class=\"simpletable\">\n",
              "<tr>\n",
              "     <td></td>       <th>coef</th>     <th>std err</th>      <th>z</th>      <th>P>|z|</th>  <th>[0.025</th>    <th>0.975]</th>  \n",
              "</tr>\n",
              "<tr>\n",
              "  <th>const</th>  <td> 5089.6409</td> <td>  366.501</td> <td>   13.887</td> <td> 0.000</td> <td> 4371.312</td> <td> 5807.970</td>\n",
              "</tr>\n",
              "<tr>\n",
              "  <th>ar.L1</th>  <td>    0.9982</td> <td>    0.001</td> <td> 1189.159</td> <td> 0.000</td> <td>    0.997</td> <td>    1.000</td>\n",
              "</tr>\n",
              "<tr>\n",
              "  <th>ma.L1</th>  <td>   -0.0186</td> <td>    0.010</td> <td>   -1.894</td> <td> 0.058</td> <td>   -0.038</td> <td>    0.001</td>\n",
              "</tr>\n",
              "<tr>\n",
              "  <th>sigma2</th> <td> 3510.8350</td> <td>   41.068</td> <td>   85.489</td> <td> 0.000</td> <td> 3430.344</td> <td> 3591.326</td>\n",
              "</tr>\n",
              "</table>\n",
              "<table class=\"simpletable\">\n",
              "<tr>\n",
              "  <th>Ljung-Box (L1) (Q):</th>     <td>0.00</td> <th>  Jarque-Bera (JB):  </th> <td>3280.53</td>\n",
              "</tr>\n",
              "<tr>\n",
              "  <th>Prob(Q):</th>                <td>0.97</td> <th>  Prob(JB):          </th>  <td>0.00</td>  \n",
              "</tr>\n",
              "<tr>\n",
              "  <th>Heteroskedasticity (H):</th> <td>1.89</td> <th>  Skew:              </th>  <td>-0.19</td> \n",
              "</tr>\n",
              "<tr>\n",
              "  <th>Prob(H) (two-sided):</th>    <td>0.00</td> <th>  Kurtosis:          </th>  <td>6.94</td>  \n",
              "</tr>\n",
              "</table><br/><br/>Warnings:<br/>[1] Covariance matrix calculated using the outer product of gradients (complex-step)."
            ],
            "text/latex": "\\begin{center}\n\\begin{tabular}{lclc}\n\\toprule\n\\textbf{Dep. Variable:}          &  market\\_value   & \\textbf{  No. Observations:  } &    5021     \\\\\n\\textbf{Model:}                  &  ARIMA(1, 0, 1)  & \\textbf{  Log Likelihood     } & -27621.875  \\\\\n\\textbf{Date:}                   & Fri, 22 Sep 2023 & \\textbf{  AIC                } & 55251.749   \\\\\n\\textbf{Time:}                   &     20:41:02     & \\textbf{  BIC                } & 55277.835   \\\\\n\\textbf{Sample:}                 &    01-07-1994    & \\textbf{  HQIC               } & 55260.890   \\\\\n\\textbf{}                        &   - 04-05-2013   & \\textbf{                     } &             \\\\\n\\textbf{Covariance Type:}        &       opg        & \\textbf{                     } &             \\\\\n\\bottomrule\n\\end{tabular}\n\\begin{tabular}{lcccccc}\n                & \\textbf{coef} & \\textbf{std err} & \\textbf{z} & \\textbf{P$> |$z$|$} & \\textbf{[0.025} & \\textbf{0.975]}  \\\\\n\\midrule\n\\textbf{const}  &    5089.6409  &      366.501     &    13.887  &         0.000        &     4371.312    &     5807.970     \\\\\n\\textbf{ar.L1}  &       0.9982  &        0.001     &  1189.159  &         0.000        &        0.997    &        1.000     \\\\\n\\textbf{ma.L1}  &      -0.0186  &        0.010     &    -1.894  &         0.058        &       -0.038    &        0.001     \\\\\n\\textbf{sigma2} &    3510.8350  &       41.068     &    85.489  &         0.000        &     3430.344    &     3591.326     \\\\\n\\bottomrule\n\\end{tabular}\n\\begin{tabular}{lclc}\n\\textbf{Ljung-Box (L1) (Q):}     & 0.00 & \\textbf{  Jarque-Bera (JB):  } & 3280.53  \\\\\n\\textbf{Prob(Q):}                & 0.97 & \\textbf{  Prob(JB):          } &   0.00   \\\\\n\\textbf{Heteroskedasticity (H):} & 1.89 & \\textbf{  Skew:              } &  -0.19   \\\\\n\\textbf{Prob(H) (two-sided):}    & 0.00 & \\textbf{  Kurtosis:          } &   6.94   \\\\\n\\bottomrule\n\\end{tabular}\n%\\caption{SARIMAX Results}\n\\end{center}\n\nWarnings: \\newline\n [1] Covariance matrix calculated using the outer product of gradients (complex-step)."
          },
          "metadata": {},
          "execution_count": 35
        }
      ]
    },
    {
      "cell_type": "code",
      "source": [
        "df['res_ar_1_ma_1'] = results_ar_1_ma_1.resid\n",
        "sgt.plot_acf(df.res_ar_1_ma_1, zero = False, lags = 40)\n",
        "plt.title(\"ACF Of Residuals of Prices\",size=20)\n",
        "plt.show()"
      ],
      "metadata": {
        "colab": {
          "base_uri": "https://localhost:8080/",
          "height": 465
        },
        "id": "6P4VgLAsmtoM",
        "outputId": "549d05ce-7012-4c78-d1e3-b76381a29002"
      },
      "execution_count": null,
      "outputs": [
        {
          "output_type": "display_data",
          "data": {
            "text/plain": [
              "<Figure size 640x480 with 1 Axes>"
            ],
            "image/png": "[encoded data removed]"
          },
          "metadata": {}
        }
      ]
    },
    {
      "cell_type": "code",
      "source": [
        "model_ar_6_ma_6 = sm.tsa.ARIMA(df.market_value, order=(6,0,6))\n",
        "results_ar_6_ma_6 = model_ar_6_ma_6.fit()\n",
        "results_ar_6_ma_6.summary()"
      ],
      "metadata": {
        "colab": {
          "base_uri": "https://localhost:8080/",
          "height": 649
        },
        "id": "MEsIk2c_mtqn",
        "outputId": "8dd9646c-4b5f-4a1a-facc-ed046bba83c6"
      },
      "execution_count": null,
      "outputs": [
        {
          "output_type": "execute_result",
          "data": {
            "text/plain": [
              "<class 'statsmodels.iolib.summary.Summary'>\n",
              "\"\"\"\n",
              "                               SARIMAX Results                                \n",
              "==============================================================================\n",
              "Dep. Variable:           market_value   No. Observations:                 5021\n",
              "Model:                 ARIMA(6, 0, 6)   Log Likelihood              -27591.277\n",
              "Date:                Fri, 22 Sep 2023   AIC                          55210.553\n",
              "Time:                        20:45:10   BIC                          55301.853\n",
              "Sample:                    01-07-1994   HQIC                         55242.546\n",
              "                         - 04-05-2013                                         \n",
              "Covariance Type:                  opg                                         \n",
              "==============================================================================\n",
              "                 coef    std err          z      P>|z|      [0.025      0.975]\n",
              "------------------------------------------------------------------------------\n",
              "const       5089.6408    511.853      9.944      0.000    4086.428    6092.853\n",
              "ar.L1          0.7382      0.927      0.796      0.426      -1.078       2.555\n",
              "ar.L2          0.2445      1.556      0.157      0.875      -2.805       3.294\n",
              "ar.L3         -0.4062      1.223     -0.332      0.740      -2.803       1.991\n",
              "ar.L4          0.3422      0.759      0.451      0.652      -1.145       1.830\n",
              "ar.L5         -0.1101      0.418     -0.263      0.792      -0.930       0.710\n",
              "ar.L6          0.1892      0.254      0.746      0.456      -0.308       0.687\n",
              "ma.L1          0.2406      0.927      0.260      0.795      -1.575       2.057\n",
              "ma.L2         -0.0390      0.668     -0.058      0.953      -1.348       1.270\n",
              "ma.L3          0.3344      0.563      0.594      0.552      -0.769       1.437\n",
              "ma.L4          0.0823      0.243      0.339      0.735      -0.394       0.559\n",
              "ma.L5          0.1450      0.301      0.482      0.630      -0.444       0.734\n",
              "ma.L6         -0.0865      0.085     -1.016      0.310      -0.253       0.080\n",
              "sigma2      3468.7408     43.249     80.204      0.000    3383.975    3553.507\n",
              "===================================================================================\n",
              "Ljung-Box (L1) (Q):                   0.00   Jarque-Bera (JB):              2960.94\n",
              "Prob(Q):                              0.98   Prob(JB):                         0.00\n",
              "Heteroskedasticity (H):               1.89   Skew:                            -0.29\n",
              "Prob(H) (two-sided):                  0.00   Kurtosis:                         6.72\n",
              "===================================================================================\n",
              "\n",
              "Warnings:\n",
              "[1] Covariance matrix calculated using the outer product of gradients (complex-step).\n",
              "\"\"\""
            ],
            "text/html": [
              "<table class=\"simpletable\">\n",
              "<caption>SARIMAX Results</caption>\n",
              "<tr>\n",
              "  <th>Dep. Variable:</th>     <td>market_value</td>   <th>  No. Observations:  </th>    <td>5021</td>   \n",
              "</tr>\n",
              "<tr>\n",
              "  <th>Model:</th>            <td>ARIMA(6, 0, 6)</td>  <th>  Log Likelihood     </th> <td>-27591.277</td>\n",
              "</tr>\n",
              "<tr>\n",
              "  <th>Date:</th>            <td>Fri, 22 Sep 2023</td> <th>  AIC                </th>  <td>55210.553</td>\n",
              "</tr>\n",
              "<tr>\n",
              "  <th>Time:</th>                <td>20:45:10</td>     <th>  BIC                </th>  <td>55301.853</td>\n",
              "</tr>\n",
              "<tr>\n",
              "  <th>Sample:</th>             <td>01-07-1994</td>    <th>  HQIC               </th>  <td>55242.546</td>\n",
              "</tr>\n",
              "<tr>\n",
              "  <th></th>                   <td>- 04-05-2013</td>   <th>                     </th>      <td> </td>    \n",
              "</tr>\n",
              "<tr>\n",
              "  <th>Covariance Type:</th>        <td>opg</td>       <th>                     </th>      <td> </td>    \n",
              "</tr>\n",
              "</table>\n",
              "<table class=\"simpletable\">\n",
              "<tr>\n",
              "     <td></td>       <th>coef</th>     <th>std err</th>      <th>z</th>      <th>P>|z|</th>  <th>[0.025</th>    <th>0.975]</th>  \n",
              "</tr>\n",
              "<tr>\n",
              "  <th>const</th>  <td> 5089.6408</td> <td>  511.853</td> <td>    9.944</td> <td> 0.000</td> <td> 4086.428</td> <td> 6092.853</td>\n",
              "</tr>\n",
              "<tr>\n",
              "  <th>ar.L1</th>  <td>    0.7382</td> <td>    0.927</td> <td>    0.796</td> <td> 0.426</td> <td>   -1.078</td> <td>    2.555</td>\n",
              "</tr>\n",
              "<tr>\n",
              "  <th>ar.L2</th>  <td>    0.2445</td> <td>    1.556</td> <td>    0.157</td> <td> 0.875</td> <td>   -2.805</td> <td>    3.294</td>\n",
              "</tr>\n",
              "<tr>\n",
              "  <th>ar.L3</th>  <td>   -0.4062</td> <td>    1.223</td> <td>   -0.332</td> <td> 0.740</td> <td>   -2.803</td> <td>    1.991</td>\n",
              "</tr>\n",
              "<tr>\n",
              "  <th>ar.L4</th>  <td>    0.3422</td> <td>    0.759</td> <td>    0.451</td> <td> 0.652</td> <td>   -1.145</td> <td>    1.830</td>\n",
              "</tr>\n",
              "<tr>\n",
              "  <th>ar.L5</th>  <td>   -0.1101</td> <td>    0.418</td> <td>   -0.263</td> <td> 0.792</td> <td>   -0.930</td> <td>    0.710</td>\n",
              "</tr>\n",
              "<tr>\n",
              "  <th>ar.L6</th>  <td>    0.1892</td> <td>    0.254</td> <td>    0.746</td> <td> 0.456</td> <td>   -0.308</td> <td>    0.687</td>\n",
              "</tr>\n",
              "<tr>\n",
              "  <th>ma.L1</th>  <td>    0.2406</td> <td>    0.927</td> <td>    0.260</td> <td> 0.795</td> <td>   -1.575</td> <td>    2.057</td>\n",
              "</tr>\n",
              "<tr>\n",
              "  <th>ma.L2</th>  <td>   -0.0390</td> <td>    0.668</td> <td>   -0.058</td> <td> 0.953</td> <td>   -1.348</td> <td>    1.270</td>\n",
              "</tr>\n",
              "<tr>\n",
              "  <th>ma.L3</th>  <td>    0.3344</td> <td>    0.563</td> <td>    0.594</td> <td> 0.552</td> <td>   -0.769</td> <td>    1.437</td>\n",
              "</tr>\n",
              "<tr>\n",
              "  <th>ma.L4</th>  <td>    0.0823</td> <td>    0.243</td> <td>    0.339</td> <td> 0.735</td> <td>   -0.394</td> <td>    0.559</td>\n",
              "</tr>\n",
              "<tr>\n",
              "  <th>ma.L5</th>  <td>    0.1450</td> <td>    0.301</td> <td>    0.482</td> <td> 0.630</td> <td>   -0.444</td> <td>    0.734</td>\n",
              "</tr>\n",
              "<tr>\n",
              "  <th>ma.L6</th>  <td>   -0.0865</td> <td>    0.085</td> <td>   -1.016</td> <td> 0.310</td> <td>   -0.253</td> <td>    0.080</td>\n",
              "</tr>\n",
              "<tr>\n",
              "  <th>sigma2</th> <td> 3468.7408</td> <td>   43.249</td> <td>   80.204</td> <td> 0.000</td> <td> 3383.975</td> <td> 3553.507</td>\n",
              "</tr>\n",
              "</table>\n",
              "<table class=\"simpletable\">\n",
              "<tr>\n",
              "  <th>Ljung-Box (L1) (Q):</th>     <td>0.00</td> <th>  Jarque-Bera (JB):  </th> <td>2960.94</td>\n",
              "</tr>\n",
              "<tr>\n",
              "  <th>Prob(Q):</th>                <td>0.98</td> <th>  Prob(JB):          </th>  <td>0.00</td>  \n",
              "</tr>\n",
              "<tr>\n",
              "  <th>Heteroskedasticity (H):</th> <td>1.89</td> <th>  Skew:              </th>  <td>-0.29</td> \n",
              "</tr>\n",
              "<tr>\n",
              "  <th>Prob(H) (two-sided):</th>    <td>0.00</td> <th>  Kurtosis:          </th>  <td>6.72</td>  \n",
              "</tr>\n",
              "</table><br/><br/>Warnings:<br/>[1] Covariance matrix calculated using the outer product of gradients (complex-step)."
            ],
            "text/latex": "\\begin{center}\n\\begin{tabular}{lclc}\n\\toprule\n\\textbf{Dep. Variable:}          &  market\\_value   & \\textbf{  No. Observations:  } &    5021     \\\\\n\\textbf{Model:}                  &  ARIMA(6, 0, 6)  & \\textbf{  Log Likelihood     } & -27591.277  \\\\\n\\textbf{Date:}                   & Fri, 22 Sep 2023 & \\textbf{  AIC                } & 55210.553   \\\\\n\\textbf{Time:}                   &     20:45:10     & \\textbf{  BIC                } & 55301.853   \\\\\n\\textbf{Sample:}                 &    01-07-1994    & \\textbf{  HQIC               } & 55242.546   \\\\\n\\textbf{}                        &   - 04-05-2013   & \\textbf{                     } &             \\\\\n\\textbf{Covariance Type:}        &       opg        & \\textbf{                     } &             \\\\\n\\bottomrule\n\\end{tabular}\n\\begin{tabular}{lcccccc}\n                & \\textbf{coef} & \\textbf{std err} & \\textbf{z} & \\textbf{P$> |$z$|$} & \\textbf{[0.025} & \\textbf{0.975]}  \\\\\n\\midrule\n\\textbf{const}  &    5089.6408  &      511.853     &     9.944  &         0.000        &     4086.428    &     6092.853     \\\\\n\\textbf{ar.L1}  &       0.7382  &        0.927     &     0.796  &         0.426        &       -1.078    &        2.555     \\\\\n\\textbf{ar.L2}  &       0.2445  &        1.556     &     0.157  &         0.875        &       -2.805    &        3.294     \\\\\n\\textbf{ar.L3}  &      -0.4062  &        1.223     &    -0.332  &         0.740        &       -2.803    &        1.991     \\\\\n\\textbf{ar.L4}  &       0.3422  &        0.759     &     0.451  &         0.652        &       -1.145    &        1.830     \\\\\n\\textbf{ar.L5}  &      -0.1101  &        0.418     &    -0.263  &         0.792        &       -0.930    &        0.710     \\\\\n\\textbf{ar.L6}  &       0.1892  &        0.254     &     0.746  &         0.456        &       -0.308    &        0.687     \\\\\n\\textbf{ma.L1}  &       0.2406  &        0.927     &     0.260  &         0.795        &       -1.575    &        2.057     \\\\\n\\textbf{ma.L2}  &      -0.0390  &        0.668     &    -0.058  &         0.953        &       -1.348    &        1.270     \\\\\n\\textbf{ma.L3}  &       0.3344  &        0.563     &     0.594  &         0.552        &       -0.769    &        1.437     \\\\\n\\textbf{ma.L4}  &       0.0823  &        0.243     &     0.339  &         0.735        &       -0.394    &        0.559     \\\\\n\\textbf{ma.L5}  &       0.1450  &        0.301     &     0.482  &         0.630        &       -0.444    &        0.734     \\\\\n\\textbf{ma.L6}  &      -0.0865  &        0.085     &    -1.016  &         0.310        &       -0.253    &        0.080     \\\\\n\\textbf{sigma2} &    3468.7408  &       43.249     &    80.204  &         0.000        &     3383.975    &     3553.507     \\\\\n\\bottomrule\n\\end{tabular}\n\\begin{tabular}{lclc}\n\\textbf{Ljung-Box (L1) (Q):}     & 0.00 & \\textbf{  Jarque-Bera (JB):  } & 2960.94  \\\\\n\\textbf{Prob(Q):}                & 0.98 & \\textbf{  Prob(JB):          } &   0.00   \\\\\n\\textbf{Heteroskedasticity (H):} & 1.89 & \\textbf{  Skew:              } &  -0.29   \\\\\n\\textbf{Prob(H) (two-sided):}    & 0.00 & \\textbf{  Kurtosis:          } &   6.72   \\\\\n\\bottomrule\n\\end{tabular}\n%\\caption{SARIMAX Results}\n\\end{center}\n\nWarnings: \\newline\n [1] Covariance matrix calculated using the outer product of gradients (complex-step)."
          },
          "metadata": {},
          "execution_count": 42
        }
      ]
    },
    {
      "cell_type": "code",
      "source": [
        "model_ar_5_ma_6 = sm.tsa.ARIMA(df.market_value, order=(5,0,6))\n",
        "results_ar_5_ma_6 = model_ar_5_ma_6.fit()\n",
        "results_ar_5_ma_6.summary()"
      ],
      "metadata": {
        "colab": {
          "base_uri": "https://localhost:8080/",
          "height": 629
        },
        "id": "CcSjLAe6mttE",
        "outputId": "65db63b5-1006-4e6a-828e-bf865447a712"
      },
      "execution_count": null,
      "outputs": [
        {
          "output_type": "execute_result",
          "data": {
            "text/plain": [
              "<class 'statsmodels.iolib.summary.Summary'>\n",
              "\"\"\"\n",
              "                               SARIMAX Results                                \n",
              "==============================================================================\n",
              "Dep. Variable:           market_value   No. Observations:                 5021\n",
              "Model:                 ARIMA(5, 0, 6)   Log Likelihood              -27589.851\n",
              "Date:                Fri, 22 Sep 2023   AIC                          55205.703\n",
              "Time:                        20:47:25   BIC                          55290.481\n",
              "Sample:                    01-07-1994   HQIC                         55235.410\n",
              "                         - 04-05-2013                                         \n",
              "Covariance Type:                  opg                                         \n",
              "==============================================================================\n",
              "                 coef    std err          z      P>|z|      [0.025      0.975]\n",
              "------------------------------------------------------------------------------\n",
              "const       5089.6408   1620.722      3.140      0.002    1913.085    8266.197\n",
              "ar.L1          0.6072      0.619      0.980      0.327      -0.607       1.821\n",
              "ar.L2         -0.2239      0.705     -0.318      0.751      -1.605       1.157\n",
              "ar.L3          0.1461      0.607      0.240      0.810      -1.044       1.337\n",
              "ar.L4          0.5846      0.498      1.173      0.241      -0.392       1.561\n",
              "ar.L5         -0.1149      0.107     -1.074      0.283      -0.324       0.095\n",
              "ma.L1          0.3721      0.619      0.602      0.547      -0.840       1.584\n",
              "ma.L2          0.5591      0.152      3.684      0.000       0.262       0.857\n",
              "ma.L3          0.3628      0.492      0.737      0.461      -0.602       1.328\n",
              "ma.L4         -0.1578      0.102     -1.553      0.120      -0.357       0.041\n",
              "ma.L5         -0.0842      0.013     -6.348      0.000      -0.110      -0.058\n",
              "ma.L6         -0.0520      0.059     -0.879      0.379      -0.168       0.064\n",
              "sigma2      3466.5040     42.270     82.009      0.000    3383.657    3549.351\n",
              "===================================================================================\n",
              "Ljung-Box (L1) (Q):                   0.00   Jarque-Bera (JB):              3043.54\n",
              "Prob(Q):                              0.97   Prob(JB):                         0.00\n",
              "Heteroskedasticity (H):               1.89   Skew:                            -0.31\n",
              "Prob(H) (two-sided):                  0.00   Kurtosis:                         6.76\n",
              "===================================================================================\n",
              "\n",
              "Warnings:\n",
              "[1] Covariance matrix calculated using the outer product of gradients (complex-step).\n",
              "\"\"\""
            ],
            "text/html": [
              "<table class=\"simpletable\">\n",
              "<caption>SARIMAX Results</caption>\n",
              "<tr>\n",
              "  <th>Dep. Variable:</th>     <td>market_value</td>   <th>  No. Observations:  </th>    <td>5021</td>   \n",
              "</tr>\n",
              "<tr>\n",
              "  <th>Model:</th>            <td>ARIMA(5, 0, 6)</td>  <th>  Log Likelihood     </th> <td>-27589.851</td>\n",
              "</tr>\n",
              "<tr>\n",
              "  <th>Date:</th>            <td>Fri, 22 Sep 2023</td> <th>  AIC                </th>  <td>55205.703</td>\n",
              "</tr>\n",
              "<tr>\n",
              "  <th>Time:</th>                <td>20:47:25</td>     <th>  BIC                </th>  <td>55290.481</td>\n",
              "</tr>\n",
              "<tr>\n",
              "  <th>Sample:</th>             <td>01-07-1994</td>    <th>  HQIC               </th>  <td>55235.410</td>\n",
              "</tr>\n",
              "<tr>\n",
              "  <th></th>                   <td>- 04-05-2013</td>   <th>                     </th>      <td> </td>    \n",
              "</tr>\n",
              "<tr>\n",
              "  <th>Covariance Type:</th>        <td>opg</td>       <th>                     </th>      <td> </td>    \n",
              "</tr>\n",
              "</table>\n",
              "<table class=\"simpletable\">\n",
              "<tr>\n",
              "     <td></td>       <th>coef</th>     <th>std err</th>      <th>z</th>      <th>P>|z|</th>  <th>[0.025</th>    <th>0.975]</th>  \n",
              "</tr>\n",
              "<tr>\n",
              "  <th>const</th>  <td> 5089.6408</td> <td> 1620.722</td> <td>    3.140</td> <td> 0.002</td> <td> 1913.085</td> <td> 8266.197</td>\n",
              "</tr>\n",
              "<tr>\n",
              "  <th>ar.L1</th>  <td>    0.6072</td> <td>    0.619</td> <td>    0.980</td> <td> 0.327</td> <td>   -0.607</td> <td>    1.821</td>\n",
              "</tr>\n",
              "<tr>\n",
              "  <th>ar.L2</th>  <td>   -0.2239</td> <td>    0.705</td> <td>   -0.318</td> <td> 0.751</td> <td>   -1.605</td> <td>    1.157</td>\n",
              "</tr>\n",
              "<tr>\n",
              "  <th>ar.L3</th>  <td>    0.1461</td> <td>    0.607</td> <td>    0.240</td> <td> 0.810</td> <td>   -1.044</td> <td>    1.337</td>\n",
              "</tr>\n",
              "<tr>\n",
              "  <th>ar.L4</th>  <td>    0.5846</td> <td>    0.498</td> <td>    1.173</td> <td> 0.241</td> <td>   -0.392</td> <td>    1.561</td>\n",
              "</tr>\n",
              "<tr>\n",
              "  <th>ar.L5</th>  <td>   -0.1149</td> <td>    0.107</td> <td>   -1.074</td> <td> 0.283</td> <td>   -0.324</td> <td>    0.095</td>\n",
              "</tr>\n",
              "<tr>\n",
              "  <th>ma.L1</th>  <td>    0.3721</td> <td>    0.619</td> <td>    0.602</td> <td> 0.547</td> <td>   -0.840</td> <td>    1.584</td>\n",
              "</tr>\n",
              "<tr>\n",
              "  <th>ma.L2</th>  <td>    0.5591</td> <td>    0.152</td> <td>    3.684</td> <td> 0.000</td> <td>    0.262</td> <td>    0.857</td>\n",
              "</tr>\n",
              "<tr>\n",
              "  <th>ma.L3</th>  <td>    0.3628</td> <td>    0.492</td> <td>    0.737</td> <td> 0.461</td> <td>   -0.602</td> <td>    1.328</td>\n",
              "</tr>\n",
              "<tr>\n",
              "  <th>ma.L4</th>  <td>   -0.1578</td> <td>    0.102</td> <td>   -1.553</td> <td> 0.120</td> <td>   -0.357</td> <td>    0.041</td>\n",
              "</tr>\n",
              "<tr>\n",
              "  <th>ma.L5</th>  <td>   -0.0842</td> <td>    0.013</td> <td>   -6.348</td> <td> 0.000</td> <td>   -0.110</td> <td>   -0.058</td>\n",
              "</tr>\n",
              "<tr>\n",
              "  <th>ma.L6</th>  <td>   -0.0520</td> <td>    0.059</td> <td>   -0.879</td> <td> 0.379</td> <td>   -0.168</td> <td>    0.064</td>\n",
              "</tr>\n",
              "<tr>\n",
              "  <th>sigma2</th> <td> 3466.5040</td> <td>   42.270</td> <td>   82.009</td> <td> 0.000</td> <td> 3383.657</td> <td> 3549.351</td>\n",
              "</tr>\n",
              "</table>\n",
              "<table class=\"simpletable\">\n",
              "<tr>\n",
              "  <th>Ljung-Box (L1) (Q):</th>     <td>0.00</td> <th>  Jarque-Bera (JB):  </th> <td>3043.54</td>\n",
              "</tr>\n",
              "<tr>\n",
              "  <th>Prob(Q):</th>                <td>0.97</td> <th>  Prob(JB):          </th>  <td>0.00</td>  \n",
              "</tr>\n",
              "<tr>\n",
              "  <th>Heteroskedasticity (H):</th> <td>1.89</td> <th>  Skew:              </th>  <td>-0.31</td> \n",
              "</tr>\n",
              "<tr>\n",
              "  <th>Prob(H) (two-sided):</th>    <td>0.00</td> <th>  Kurtosis:          </th>  <td>6.76</td>  \n",
              "</tr>\n",
              "</table><br/><br/>Warnings:<br/>[1] Covariance matrix calculated using the outer product of gradients (complex-step)."
            ],
            "text/latex": "\\begin{center}\n\\begin{tabular}{lclc}\n\\toprule\n\\textbf{Dep. Variable:}          &  market\\_value   & \\textbf{  No. Observations:  } &    5021     \\\\\n\\textbf{Model:}                  &  ARIMA(5, 0, 6)  & \\textbf{  Log Likelihood     } & -27589.851  \\\\\n\\textbf{Date:}                   & Fri, 22 Sep 2023 & \\textbf{  AIC                } & 55205.703   \\\\\n\\textbf{Time:}                   &     20:47:25     & \\textbf{  BIC                } & 55290.481   \\\\\n\\textbf{Sample:}                 &    01-07-1994    & \\textbf{  HQIC               } & 55235.410   \\\\\n\\textbf{}                        &   - 04-05-2013   & \\textbf{                     } &             \\\\\n\\textbf{Covariance Type:}        &       opg        & \\textbf{                     } &             \\\\\n\\bottomrule\n\\end{tabular}\n\\begin{tabular}{lcccccc}\n                & \\textbf{coef} & \\textbf{std err} & \\textbf{z} & \\textbf{P$> |$z$|$} & \\textbf{[0.025} & \\textbf{0.975]}  \\\\\n\\midrule\n\\textbf{const}  &    5089.6408  &     1620.722     &     3.140  &         0.002        &     1913.085    &     8266.197     \\\\\n\\textbf{ar.L1}  &       0.6072  &        0.619     &     0.980  &         0.327        &       -0.607    &        1.821     \\\\\n\\textbf{ar.L2}  &      -0.2239  &        0.705     &    -0.318  &         0.751        &       -1.605    &        1.157     \\\\\n\\textbf{ar.L3}  &       0.1461  &        0.607     &     0.240  &         0.810        &       -1.044    &        1.337     \\\\\n\\textbf{ar.L4}  &       0.5846  &        0.498     &     1.173  &         0.241        &       -0.392    &        1.561     \\\\\n\\textbf{ar.L5}  &      -0.1149  &        0.107     &    -1.074  &         0.283        &       -0.324    &        0.095     \\\\\n\\textbf{ma.L1}  &       0.3721  &        0.619     &     0.602  &         0.547        &       -0.840    &        1.584     \\\\\n\\textbf{ma.L2}  &       0.5591  &        0.152     &     3.684  &         0.000        &        0.262    &        0.857     \\\\\n\\textbf{ma.L3}  &       0.3628  &        0.492     &     0.737  &         0.461        &       -0.602    &        1.328     \\\\\n\\textbf{ma.L4}  &      -0.1578  &        0.102     &    -1.553  &         0.120        &       -0.357    &        0.041     \\\\\n\\textbf{ma.L5}  &      -0.0842  &        0.013     &    -6.348  &         0.000        &       -0.110    &       -0.058     \\\\\n\\textbf{ma.L6}  &      -0.0520  &        0.059     &    -0.879  &         0.379        &       -0.168    &        0.064     \\\\\n\\textbf{sigma2} &    3466.5040  &       42.270     &    82.009  &         0.000        &     3383.657    &     3549.351     \\\\\n\\bottomrule\n\\end{tabular}\n\\begin{tabular}{lclc}\n\\textbf{Ljung-Box (L1) (Q):}     & 0.00 & \\textbf{  Jarque-Bera (JB):  } & 3043.54  \\\\\n\\textbf{Prob(Q):}                & 0.97 & \\textbf{  Prob(JB):          } &   0.00   \\\\\n\\textbf{Heteroskedasticity (H):} & 1.89 & \\textbf{  Skew:              } &  -0.31   \\\\\n\\textbf{Prob(H) (two-sided):}    & 0.00 & \\textbf{  Kurtosis:          } &   6.76   \\\\\n\\bottomrule\n\\end{tabular}\n%\\caption{SARIMAX Results}\n\\end{center}\n\nWarnings: \\newline\n [1] Covariance matrix calculated using the outer product of gradients (complex-step)."
          },
          "metadata": {},
          "execution_count": 45
        }
      ]
    },
    {
      "cell_type": "code",
      "source": [
        "model_ar_6_ma_1 = sm.tsa.ARIMA(df.market_value, order=(6,0,1))\n",
        "results_ar_6_ma_1 = model_ar_6_ma_1.fit()\n",
        "results_ar_6_ma_1.summary()"
      ],
      "metadata": {
        "colab": {
          "base_uri": "https://localhost:8080/",
          "height": 545
        },
        "id": "dc-gB-xZmzDL",
        "outputId": "d4f7b193-0b75-4a8a-9f66-d7228ffdf348"
      },
      "execution_count": null,
      "outputs": [
        {
          "output_type": "execute_result",
          "data": {
            "text/plain": [
              "<class 'statsmodels.iolib.summary.Summary'>\n",
              "\"\"\"\n",
              "                               SARIMAX Results                                \n",
              "==============================================================================\n",
              "Dep. Variable:           market_value   No. Observations:                 5021\n",
              "Model:                 ARIMA(6, 0, 1)   Log Likelihood              -27594.195\n",
              "Date:                Fri, 22 Sep 2023   AIC                          55206.390\n",
              "Time:                        20:47:57   BIC                          55265.082\n",
              "Sample:                    01-07-1994   HQIC                         55226.956\n",
              "                         - 04-05-2013                                         \n",
              "Covariance Type:                  opg                                         \n",
              "==============================================================================\n",
              "                 coef    std err          z      P>|z|      [0.025      0.975]\n",
              "------------------------------------------------------------------------------\n",
              "const       5089.6310    525.543      9.685      0.000    4059.585    6119.677\n",
              "ar.L1          1.3884      0.158      8.793      0.000       1.079       1.698\n",
              "ar.L2         -0.4332      0.154     -2.812      0.005      -0.735      -0.131\n",
              "ar.L3         -0.0103      0.017     -0.619      0.536      -0.043       0.022\n",
              "ar.L4          0.1125      0.016      6.905      0.000       0.081       0.144\n",
              "ar.L5         -0.1154      0.020     -5.695      0.000      -0.155      -0.076\n",
              "ar.L6          0.0573      0.009      6.193      0.000       0.039       0.075\n",
              "ma.L1         -0.4089      0.158     -2.582      0.010      -0.719      -0.098\n",
              "sigma2      3471.4062     42.110     82.437      0.000    3388.873    3553.940\n",
              "===================================================================================\n",
              "Ljung-Box (L1) (Q):                   0.01   Jarque-Bera (JB):              3031.82\n",
              "Prob(Q):                              0.93   Prob(JB):                         0.00\n",
              "Heteroskedasticity (H):               1.89   Skew:                            -0.31\n",
              "Prob(H) (two-sided):                  0.00   Kurtosis:                         6.76\n",
              "===================================================================================\n",
              "\n",
              "Warnings:\n",
              "[1] Covariance matrix calculated using the outer product of gradients (complex-step).\n",
              "\"\"\""
            ],
            "text/html": [
              "<table class=\"simpletable\">\n",
              "<caption>SARIMAX Results</caption>\n",
              "<tr>\n",
              "  <th>Dep. Variable:</th>     <td>market_value</td>   <th>  No. Observations:  </th>    <td>5021</td>   \n",
              "</tr>\n",
              "<tr>\n",
              "  <th>Model:</th>            <td>ARIMA(6, 0, 1)</td>  <th>  Log Likelihood     </th> <td>-27594.195</td>\n",
              "</tr>\n",
              "<tr>\n",
              "  <th>Date:</th>            <td>Fri, 22 Sep 2023</td> <th>  AIC                </th>  <td>55206.390</td>\n",
              "</tr>\n",
              "<tr>\n",
              "  <th>Time:</th>                <td>20:47:57</td>     <th>  BIC                </th>  <td>55265.082</td>\n",
              "</tr>\n",
              "<tr>\n",
              "  <th>Sample:</th>             <td>01-07-1994</td>    <th>  HQIC               </th>  <td>55226.956</td>\n",
              "</tr>\n",
              "<tr>\n",
              "  <th></th>                   <td>- 04-05-2013</td>   <th>                     </th>      <td> </td>    \n",
              "</tr>\n",
              "<tr>\n",
              "  <th>Covariance Type:</th>        <td>opg</td>       <th>                     </th>      <td> </td>    \n",
              "</tr>\n",
              "</table>\n",
              "<table class=\"simpletable\">\n",
              "<tr>\n",
              "     <td></td>       <th>coef</th>     <th>std err</th>      <th>z</th>      <th>P>|z|</th>  <th>[0.025</th>    <th>0.975]</th>  \n",
              "</tr>\n",
              "<tr>\n",
              "  <th>const</th>  <td> 5089.6310</td> <td>  525.543</td> <td>    9.685</td> <td> 0.000</td> <td> 4059.585</td> <td> 6119.677</td>\n",
              "</tr>\n",
              "<tr>\n",
              "  <th>ar.L1</th>  <td>    1.3884</td> <td>    0.158</td> <td>    8.793</td> <td> 0.000</td> <td>    1.079</td> <td>    1.698</td>\n",
              "</tr>\n",
              "<tr>\n",
              "  <th>ar.L2</th>  <td>   -0.4332</td> <td>    0.154</td> <td>   -2.812</td> <td> 0.005</td> <td>   -0.735</td> <td>   -0.131</td>\n",
              "</tr>\n",
              "<tr>\n",
              "  <th>ar.L3</th>  <td>   -0.0103</td> <td>    0.017</td> <td>   -0.619</td> <td> 0.536</td> <td>   -0.043</td> <td>    0.022</td>\n",
              "</tr>\n",
              "<tr>\n",
              "  <th>ar.L4</th>  <td>    0.1125</td> <td>    0.016</td> <td>    6.905</td> <td> 0.000</td> <td>    0.081</td> <td>    0.144</td>\n",
              "</tr>\n",
              "<tr>\n",
              "  <th>ar.L5</th>  <td>   -0.1154</td> <td>    0.020</td> <td>   -5.695</td> <td> 0.000</td> <td>   -0.155</td> <td>   -0.076</td>\n",
              "</tr>\n",
              "<tr>\n",
              "  <th>ar.L6</th>  <td>    0.0573</td> <td>    0.009</td> <td>    6.193</td> <td> 0.000</td> <td>    0.039</td> <td>    0.075</td>\n",
              "</tr>\n",
              "<tr>\n",
              "  <th>ma.L1</th>  <td>   -0.4089</td> <td>    0.158</td> <td>   -2.582</td> <td> 0.010</td> <td>   -0.719</td> <td>   -0.098</td>\n",
              "</tr>\n",
              "<tr>\n",
              "  <th>sigma2</th> <td> 3471.4062</td> <td>   42.110</td> <td>   82.437</td> <td> 0.000</td> <td> 3388.873</td> <td> 3553.940</td>\n",
              "</tr>\n",
              "</table>\n",
              "<table class=\"simpletable\">\n",
              "<tr>\n",
              "  <th>Ljung-Box (L1) (Q):</th>     <td>0.01</td> <th>  Jarque-Bera (JB):  </th> <td>3031.82</td>\n",
              "</tr>\n",
              "<tr>\n",
              "  <th>Prob(Q):</th>                <td>0.93</td> <th>  Prob(JB):          </th>  <td>0.00</td>  \n",
              "</tr>\n",
              "<tr>\n",
              "  <th>Heteroskedasticity (H):</th> <td>1.89</td> <th>  Skew:              </th>  <td>-0.31</td> \n",
              "</tr>\n",
              "<tr>\n",
              "  <th>Prob(H) (two-sided):</th>    <td>0.00</td> <th>  Kurtosis:          </th>  <td>6.76</td>  \n",
              "</tr>\n",
              "</table><br/><br/>Warnings:<br/>[1] Covariance matrix calculated using the outer product of gradients (complex-step)."
            ],
            "text/latex": "\\begin{center}\n\\begin{tabular}{lclc}\n\\toprule\n\\textbf{Dep. Variable:}          &  market\\_value   & \\textbf{  No. Observations:  } &    5021     \\\\\n\\textbf{Model:}                  &  ARIMA(6, 0, 1)  & \\textbf{  Log Likelihood     } & -27594.195  \\\\\n\\textbf{Date:}                   & Fri, 22 Sep 2023 & \\textbf{  AIC                } & 55206.390   \\\\\n\\textbf{Time:}                   &     20:47:57     & \\textbf{  BIC                } & 55265.082   \\\\\n\\textbf{Sample:}                 &    01-07-1994    & \\textbf{  HQIC               } & 55226.956   \\\\\n\\textbf{}                        &   - 04-05-2013   & \\textbf{                     } &             \\\\\n\\textbf{Covariance Type:}        &       opg        & \\textbf{                     } &             \\\\\n\\bottomrule\n\\end{tabular}\n\\begin{tabular}{lcccccc}\n                & \\textbf{coef} & \\textbf{std err} & \\textbf{z} & \\textbf{P$> |$z$|$} & \\textbf{[0.025} & \\textbf{0.975]}  \\\\\n\\midrule\n\\textbf{const}  &    5089.6310  &      525.543     &     9.685  &         0.000        &     4059.585    &     6119.677     \\\\\n\\textbf{ar.L1}  &       1.3884  &        0.158     &     8.793  &         0.000        &        1.079    &        1.698     \\\\\n\\textbf{ar.L2}  &      -0.4332  &        0.154     &    -2.812  &         0.005        &       -0.735    &       -0.131     \\\\\n\\textbf{ar.L3}  &      -0.0103  &        0.017     &    -0.619  &         0.536        &       -0.043    &        0.022     \\\\\n\\textbf{ar.L4}  &       0.1125  &        0.016     &     6.905  &         0.000        &        0.081    &        0.144     \\\\\n\\textbf{ar.L5}  &      -0.1154  &        0.020     &    -5.695  &         0.000        &       -0.155    &       -0.076     \\\\\n\\textbf{ar.L6}  &       0.0573  &        0.009     &     6.193  &         0.000        &        0.039    &        0.075     \\\\\n\\textbf{ma.L1}  &      -0.4089  &        0.158     &    -2.582  &         0.010        &       -0.719    &       -0.098     \\\\\n\\textbf{sigma2} &    3471.4062  &       42.110     &    82.437  &         0.000        &     3388.873    &     3553.940     \\\\\n\\bottomrule\n\\end{tabular}\n\\begin{tabular}{lclc}\n\\textbf{Ljung-Box (L1) (Q):}     & 0.01 & \\textbf{  Jarque-Bera (JB):  } & 3031.82  \\\\\n\\textbf{Prob(Q):}                & 0.93 & \\textbf{  Prob(JB):          } &   0.00   \\\\\n\\textbf{Heteroskedasticity (H):} & 1.89 & \\textbf{  Skew:              } &  -0.31   \\\\\n\\textbf{Prob(H) (two-sided):}    & 0.00 & \\textbf{  Kurtosis:          } &   6.76   \\\\\n\\bottomrule\n\\end{tabular}\n%\\caption{SARIMAX Results}\n\\end{center}\n\nWarnings: \\newline\n [1] Covariance matrix calculated using the outer product of gradients (complex-step)."
          },
          "metadata": {},
          "execution_count": 47
        }
      ]
    },
    {
      "cell_type": "code",
      "source": [
        "print(\"ARMA(5,6):  \\t LL = \", results_ar_5_ma_6.llf, \"\\t AIC = \", results_ar_5_ma_6.aic)\n",
        "print(\"ARMA(6,1):  \\t LL = \", results_ar_6_ma_1.llf, \"\\t AIC = \", results_ar_6_ma_1.aic)\n"
      ],
      "metadata": {
        "colab": {
          "base_uri": "https://localhost:8080/"
        },
        "id": "yCIjqQfDmzF9",
        "outputId": "d52f8c33-a3a7-4abe-be77-bc186e584d23"
      },
      "execution_count": null,
      "outputs": [
        {
          "output_type": "stream",
          "name": "stdout",
          "text": [
            "ARMA(5,6):  \t LL =  -27589.851402209897 \t AIC =  55205.702804419794\n",
            "ARMA(6,1):  \t LL =  -27594.194889384184 \t AIC =  55206.38977876837\n"
          ]
        }
      ]
    },
    {
      "cell_type": "code",
      "source": [
        "df['res_ar_5_ma_6'] = results_ar_5_ma_6.resid\n",
        "sgt.plot_acf(df.res_ar_5_ma_6, zero = False, lags = 40)\n",
        "plt.title(\"ACF Of Residuals of Prices\",size=20)\n",
        "plt.show()"
      ],
      "metadata": {
        "colab": {
          "base_uri": "https://localhost:8080/",
          "height": 465
        },
        "id": "r9-ZLdRRmzIO",
        "outputId": "4e27db79-afc9-4f17-b833-6d22c579473d"
      },
      "execution_count": null,
      "outputs": [
        {
          "output_type": "display_data",
          "data": {
            "text/plain": [
              "<Figure size 640x480 with 1 Axes>"
            ],
            "image/png": "[encoded data removed]"
          },
          "metadata": {}
        }
      ]
    },
    {
      "cell_type": "code",
      "source": [
        "print(\"ARMA(5,6):  \\t LL = \", results_ar_5_ma_6.llf, \"\\t AIC = \", results_ar_5_ma_6.aic)\n",
        "print(\"ARMA(5,1):  \\t LL = \", results_ret_ar_5_ma_1.llf, \"\\t AIC = \", results_ret_ar_5_ma_1.aic)\n"
      ],
      "metadata": {
        "colab": {
          "base_uri": "https://localhost:8080/"
        },
        "id": "e8DAKPHnmzKu",
        "outputId": "35b58206-1999-4bc6-e31a-930c0e2e8a01"
      },
      "execution_count": null,
      "outputs": [
        {
          "output_type": "stream",
          "name": "stdout",
          "text": [
            "ARMA(5,6):  \t LL =  -27589.851402209897 \t AIC =  55205.702804419794\n",
            "ARMA(5,1):  \t LL =  -7889.311305453215 \t AIC =  15794.62261090643\n"
          ]
        }
      ]
    }
  ]
}